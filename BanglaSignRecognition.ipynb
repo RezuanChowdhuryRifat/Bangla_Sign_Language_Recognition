{
  "cells": [
    {
      "cell_type": "markdown",
      "metadata": {
        "id": "view-in-github",
        "colab_type": "text"
      },
      "source": [
        "<a href=\"https://colab.research.google.com/github/RezuanChowdhuryRifat/Bangla_Sign_Language_Recognition/blob/main/BanglaSignRecognition.ipynb\" target=\"_parent\"><img src=\"https://colab.research.google.com/assets/colab-badge.svg\" alt=\"Open In Colab\"/></a>"
      ]
    },
    {
      "cell_type": "markdown",
      "source": [
        "# Bangla Sign Language Recognition"
      ],
      "metadata": {
        "id": "McEZIfDbKiHG"
      }
    },
    {
      "cell_type": "code",
      "execution_count": null,
      "metadata": {
        "id": "jbpTjcVp-SEJ"
      },
      "outputs": [],
      "source": [
        "import os\n",
        "from os import path\n",
        "import shutil\n",
        "from numpy import mean\n",
        "import numpy as np\n",
        "import pandas as pd\n",
        "import seaborn as sns\n",
        "from google.colab import drive\n",
        "from sklearn.model_selection import KFold\n",
        "from sklearn.model_selection import cross_val_score\n",
        "\n",
        "\n",
        "import matplotlib\n",
        "import matplotlib.pyplot as plt\n",
        "from PIL import Image\n",
        "from pylab import *"
      ]
    },
    {
      "cell_type": "code",
      "execution_count": null,
      "metadata": {
        "colab": {
          "base_uri": "https://localhost:8080/"
        },
        "id": "MnZLMo-2gNYC",
        "outputId": "0cb7d280-4c13-4e3b-e84f-64e7ad7d210d"
      },
      "outputs": [
        {
          "output_type": "stream",
          "name": "stdout",
          "text": [
            "Mounted at /content/drive\n"
          ]
        }
      ],
      "source": [
        "drive.mount('/content/drive')"
      ]
    },
    {
      "cell_type": "code",
      "execution_count": null,
      "metadata": {
        "colab": {
          "base_uri": "https://localhost:8080/"
        },
        "id": "OQJOYcclgYpj",
        "outputId": "452d5479-6cd8-4d2e-a4ba-3a3599a1105e"
      },
      "outputs": [
        {
          "output_type": "execute_result",
          "data": {
            "text/plain": [
              "['Sign Letters - CSV Files', 'Sign Digits - CSV Files']"
            ]
          },
          "metadata": {},
          "execution_count": 3
        }
      ],
      "source": [
        "PATH = '/content/drive/MyDrive/dataset/CSV Files'\n",
        "os.listdir(PATH)"
      ]
    },
    {
      "cell_type": "markdown",
      "source": [
        "# Loading data"
      ],
      "metadata": {
        "id": "i9FdO9bRK5kT"
      }
    },
    {
      "cell_type": "markdown",
      "metadata": {
        "id": "L0VjAnpnwGaV"
      },
      "source": [
        "**USER 01**"
      ]
    },
    {
      "cell_type": "code",
      "execution_count": null,
      "metadata": {
        "id": "Y91x5FNDwJ-Q"
      },
      "outputs": [],
      "source": [
        "user1_sign00l = pd.read_csv(PATH +\"/Sign Letters - CSV Files/User - Afroza (Female, 50)/Ouput - BSL Image Frames - User - Afroza - Sign - 00.csv\")\n",
        "user1_sign01l = pd.read_csv(PATH +\"/Sign Letters - CSV Files/User - Afroza (Female, 50)/Ouput - BSL Image Frames - User - Afroza - Sign - 01.csv\")\n",
        "user1_sign02l = pd.read_csv(PATH +\"/Sign Letters - CSV Files/User - Afroza (Female, 50)/Ouput - BSL Image Frames - User - Afroza - Sign - 02.csv\")\n",
        "user1_sign03l = pd.read_csv(PATH +\"/Sign Letters - CSV Files/User - Afroza (Female, 50)/Ouput - BSL Image Frames - User - Afroza - Sign - 03.csv\")\n",
        "user1_sign04l = pd.read_csv(PATH +\"/Sign Letters - CSV Files/User - Afroza (Female, 50)/Ouput - BSL Image Frames - User - Afroza - Sign - 04.csv\")\n",
        "user1_sign05l = pd.read_csv(PATH +\"/Sign Letters - CSV Files/User - Afroza (Female, 50)/Ouput - BSL Image Frames - User - Afroza - Sign - 05.csv\")\n",
        "user1_sign06l = pd.read_csv(PATH +\"/Sign Letters - CSV Files/User - Afroza (Female, 50)/Ouput - BSL Image Frames - User - Afroza - Sign - 06.csv\")\n",
        "user1_sign07l = pd.read_csv(PATH +\"/Sign Letters - CSV Files/User - Afroza (Female, 50)/Ouput - BSL Image Frames - User - Afroza - Sign - 07.csv\")\n",
        "user1_sign08l = pd.read_csv(PATH +\"/Sign Letters - CSV Files/User - Afroza (Female, 50)/Ouput - BSL Image Frames - User - Afroza - Sign - 08.csv\")\n",
        "user1_sign09l = pd.read_csv(PATH +\"/Sign Letters - CSV Files/User - Afroza (Female, 50)/Ouput - BSL Image Frames - User - Afroza - Sign - 09.csv\")\n",
        "\n",
        "user1_sign10l = pd.read_csv(PATH +\"/Sign Letters - CSV Files/User - Afroza (Female, 50)/Ouput - BSL Image Frames - User - Afroza - Sign - 10.csv\")\n",
        "user1_sign11l = pd.read_csv(PATH +\"/Sign Letters - CSV Files/User - Afroza (Female, 50)/Ouput - BSL Image Frames - User - Afroza - Sign - 11.csv\")\n",
        "user1_sign12l = pd.read_csv(PATH +\"/Sign Letters - CSV Files/User - Afroza (Female, 50)/Ouput - BSL Image Frames - User - Afroza - Sign - 12.csv\")\n",
        "user1_sign13l = pd.read_csv(PATH +\"/Sign Letters - CSV Files/User - Afroza (Female, 50)/Ouput - BSL Image Frames - User - Afroza - Sign - 13.csv\")\n",
        "user1_sign14l = pd.read_csv(PATH +\"/Sign Letters - CSV Files/User - Afroza (Female, 50)/Ouput - BSL Image Frames - User - Afroza - Sign - 14.csv\")\n",
        "user1_sign15l = pd.read_csv(PATH +\"/Sign Letters - CSV Files/User - Afroza (Female, 50)/Ouput - BSL Image Frames - User - Afroza - Sign - 15.csv\")\n",
        "user1_sign16l = pd.read_csv(PATH +\"/Sign Letters - CSV Files/User - Afroza (Female, 50)/Ouput - BSL Image Frames - User - Afroza - Sign - 16.csv\")\n",
        "user1_sign17l = pd.read_csv(PATH +\"/Sign Letters - CSV Files/User - Afroza (Female, 50)/Ouput - BSL Image Frames - User - Afroza - Sign - 17.csv\")\n",
        "user1_sign18l = pd.read_csv(PATH +\"/Sign Letters - CSV Files/User - Afroza (Female, 50)/Ouput - BSL Image Frames - User - Afroza - Sign - 18.csv\")\n",
        "user1_sign19l = pd.read_csv(PATH +\"/Sign Letters - CSV Files/User - Afroza (Female, 50)/Ouput - BSL Image Frames - User - Afroza - Sign - 19.csv\")\n",
        "\n",
        "\n",
        "user1_sign20l = pd.read_csv(PATH +\"/Sign Letters - CSV Files/User - Afroza (Female, 50)/Ouput - BSL Image Frames - User - Afroza - Sign - 20.csv\")\n",
        "user1_sign21l = pd.read_csv(PATH +\"/Sign Letters - CSV Files/User - Afroza (Female, 50)/Ouput - BSL Image Frames - User - Afroza - Sign - 21.csv\")\n",
        "user1_sign22l = pd.read_csv(PATH +\"/Sign Letters - CSV Files/User - Afroza (Female, 50)/Ouput - BSL Image Frames - User - Afroza - Sign - 22.csv\")\n",
        "user1_sign23l = pd.read_csv(PATH +\"/Sign Letters - CSV Files/User - Afroza (Female, 50)/Ouput - BSL Image Frames - User - Afroza - Sign - 23.csv\")\n",
        "user1_sign24l = pd.read_csv(PATH +\"/Sign Letters - CSV Files/User - Afroza (Female, 50)/Ouput - BSL Image Frames - User - Afroza - Sign - 24.csv\")\n",
        "user1_sign25l = pd.read_csv(PATH +\"/Sign Letters - CSV Files/User - Afroza (Female, 50)/Ouput - BSL Image Frames - User - Afroza - Sign - 25.csv\")\n",
        "user1_sign26l = pd.read_csv(PATH +\"/Sign Letters - CSV Files/User - Afroza (Female, 50)/Ouput - BSL Image Frames - User - Afroza - Sign - 26.csv\")\n",
        "user1_sign27l = pd.read_csv(PATH +\"/Sign Letters - CSV Files/User - Afroza (Female, 50)/Ouput - BSL Image Frames - User - Afroza - Sign - 27.csv\")\n",
        "user1_sign28l = pd.read_csv(PATH +\"/Sign Letters - CSV Files/User - Afroza (Female, 50)/Ouput - BSL Image Frames - User - Afroza - Sign - 28.csv\")\n",
        "user1_sign29l = pd.read_csv(PATH +\"/Sign Letters - CSV Files/User - Afroza (Female, 50)/Ouput - BSL Image Frames - User - Afroza - Sign - 29.csv\")\n",
        "\n",
        "user1_sign30l = pd.read_csv(PATH +\"/Sign Letters - CSV Files/User - Afroza (Female, 50)/Ouput - BSL Image Frames - User - Afroza - Sign - 30.csv\")\n",
        "user1_sign31l = pd.read_csv(PATH +\"/Sign Letters - CSV Files/User - Afroza (Female, 50)/Ouput - BSL Image Frames - User - Afroza - Sign - 31.csv\")\n",
        "user1_sign32l = pd.read_csv(PATH +\"/Sign Letters - CSV Files/User - Afroza (Female, 50)/Ouput - BSL Image Frames - User - Afroza - Sign - 32.csv\")\n",
        "user1_sign33l = pd.read_csv(PATH +\"/Sign Letters - CSV Files/User - Afroza (Female, 50)/Ouput - BSL Image Frames - User - Afroza - Sign - 33.csv\")\n",
        "user1_sign34l = pd.read_csv(PATH +\"/Sign Letters - CSV Files/User - Afroza (Female, 50)/Ouput - BSL Image Frames - User - Afroza - Sign - 34.csv\")\n",
        "user1_sign35l = pd.read_csv(PATH +\"/Sign Letters - CSV Files/User - Afroza (Female, 50)/Ouput - BSL Image Frames - User - Afroza - Sign - 35.csv\")\n",
        "user1_sign36l = pd.read_csv(PATH +\"/Sign Letters - CSV Files/User - Afroza (Female, 50)/Ouput - BSL Image Frames - User - Afroza - Sign - 36.csv\")"
      ]
    },
    {
      "cell_type": "markdown",
      "metadata": {
        "id": "ACkQKRNV2KwQ"
      },
      "source": [
        "**USER 02**"
      ]
    },
    {
      "cell_type": "code",
      "execution_count": null,
      "metadata": {
        "id": "kXJd1yl22OS4"
      },
      "outputs": [],
      "source": [
        "user2_sign00l = pd.read_csv(PATH +\"/Sign Letters - CSV Files/User - Hridi (Female, 19)/Ouput - BSL Image Frames - User - Hridi - Sign 00.csv\")\n",
        "user2_sign01l = pd.read_csv(PATH +\"/Sign Letters - CSV Files/User - Hridi (Female, 19)/Ouput - BSL Image Frames - User - Hridi - Sign 01.csv\")\n",
        "user2_sign02l = pd.read_csv(PATH +\"/Sign Letters - CSV Files/User - Hridi (Female, 19)/Ouput - BSL Image Frames - User - Hridi - Sign 02.csv\")\n",
        "user2_sign03l = pd.read_csv(PATH +\"/Sign Letters - CSV Files/User - Hridi (Female, 19)/Ouput - BSL Image Frames - User - Hridi - Sign 03.csv\")\n",
        "user2_sign04l = pd.read_csv(PATH +\"/Sign Letters - CSV Files/User - Hridi (Female, 19)/Ouput - BSL Image Frames - User - Hridi - Sign 04.csv\")\n",
        "user2_sign05l = pd.read_csv(PATH +\"/Sign Letters - CSV Files/User - Hridi (Female, 19)/Ouput - BSL Image Frames - User - Hridi - Sign 05.csv\")\n",
        "user2_sign06l = pd.read_csv(PATH +\"/Sign Letters - CSV Files/User - Hridi (Female, 19)/Ouput - BSL Image Frames - User - Hridi - Sign 06.csv\")\n",
        "user2_sign07l = pd.read_csv(PATH +\"/Sign Letters - CSV Files/User - Hridi (Female, 19)/Ouput - BSL Image Frames - User - Hridi - Sign 07.csv\")\n",
        "user2_sign08l = pd.read_csv(PATH +\"/Sign Letters - CSV Files/User - Hridi (Female, 19)/Ouput - BSL Image Frames - User - Hridi - Sign 08.csv\")\n",
        "user2_sign09l = pd.read_csv(PATH +\"/Sign Letters - CSV Files/User - Hridi (Female, 19)/Ouput - BSL Image Frames - User - Hridi - Sign 09.csv\")\n",
        "\n",
        "user2_sign10l = pd.read_csv(PATH +\"/Sign Letters - CSV Files/User - Hridi (Female, 19)/Ouput - BSL Image Frames - User - Hridi - Sign 10.csv\")\n",
        "user2_sign11l = pd.read_csv(PATH +\"/Sign Letters - CSV Files/User - Hridi (Female, 19)/Ouput - BSL Image Frames - User - Hridi - Sign 11.csv\")\n",
        "user2_sign12l = pd.read_csv(PATH +\"/Sign Letters - CSV Files/User - Hridi (Female, 19)/Ouput - BSL Image Frames - User - Hridi - Sign 12.csv\")\n",
        "user2_sign13l = pd.read_csv(PATH +\"/Sign Letters - CSV Files/User - Hridi (Female, 19)/Ouput - BSL Image Frames - User - Hridi - Sign 13.csv\")\n",
        "user2_sign14l = pd.read_csv(PATH +\"/Sign Letters - CSV Files/User - Hridi (Female, 19)/Ouput - BSL Image Frames - User - Hridi - Sign 14.csv\")\n",
        "user2_sign15l = pd.read_csv(PATH +\"/Sign Letters - CSV Files/User - Hridi (Female, 19)/Ouput - BSL Image Frames - User - Hridi - Sign 15.csv\")\n",
        "user2_sign16l = pd.read_csv(PATH +\"/Sign Letters - CSV Files/User - Hridi (Female, 19)/Ouput - BSL Image Frames - User - Hridi - Sign 16.csv\")\n",
        "user2_sign17l = pd.read_csv(PATH +\"/Sign Letters - CSV Files/User - Hridi (Female, 19)/Ouput - BSL Image Frames - User - Hridi - Sign 17.csv\")\n",
        "user2_sign18l = pd.read_csv(PATH +\"/Sign Letters - CSV Files/User - Hridi (Female, 19)/Ouput - BSL Image Frames - User - Hridi - Sign 18.csv\")\n",
        "user2_sign19l = pd.read_csv(PATH +\"/Sign Letters - CSV Files/User - Hridi (Female, 19)/Ouput - BSL Image Frames - User - Hridi - Sign 19.csv\")\n",
        "\n",
        "user2_sign20l = pd.read_csv(PATH +\"/Sign Letters - CSV Files/User - Hridi (Female, 19)/Ouput - BSL Image Frames - User - Hridi - Sign 20.csv\")\n",
        "user2_sign21l = pd.read_csv(PATH +\"/Sign Letters - CSV Files/User - Hridi (Female, 19)/Ouput - BSL Image Frames - User - Hridi - Sign 21.csv\")\n",
        "user2_sign22l = pd.read_csv(PATH +\"/Sign Letters - CSV Files/User - Hridi (Female, 19)/Ouput - BSL Image Frames - User - Hridi - Sign 22.csv\")\n",
        "user2_sign23l = pd.read_csv(PATH +\"/Sign Letters - CSV Files/User - Hridi (Female, 19)/Ouput - BSL Image Frames - User - Hridi - Sign 23.csv\")\n",
        "user2_sign24l = pd.read_csv(PATH +\"/Sign Letters - CSV Files/User - Hridi (Female, 19)/Ouput - BSL Image Frames - User - Hridi - Sign 24.csv\")\n",
        "user2_sign25l = pd.read_csv(PATH +\"/Sign Letters - CSV Files/User - Hridi (Female, 19)/Ouput - BSL Image Frames - User - Hridi - Sign 25.csv\")\n",
        "user2_sign26l = pd.read_csv(PATH +\"/Sign Letters - CSV Files/User - Hridi (Female, 19)/Ouput - BSL Image Frames - User - Hridi - Sign 26.csv\")\n",
        "user2_sign27l = pd.read_csv(PATH +\"/Sign Letters - CSV Files/User - Hridi (Female, 19)/Ouput - BSL Image Frames - User - Hridi - Sign 27.csv\")\n",
        "user2_sign28l = pd.read_csv(PATH +\"/Sign Letters - CSV Files/User - Hridi (Female, 19)/Ouput - BSL Image Frames - User - Hridi - Sign 28.csv\")\n",
        "user2_sign29l = pd.read_csv(PATH +\"/Sign Letters - CSV Files/User - Hridi (Female, 19)/Ouput - BSL Image Frames - User - Hridi - Sign 29.csv\")\n",
        "\n",
        "user2_sign30l = pd.read_csv(PATH +\"/Sign Letters - CSV Files/User - Hridi (Female, 19)/Ouput - BSL Image Frames - User - Hridi - Sign 30.csv\")\n",
        "user2_sign31l = pd.read_csv(PATH +\"/Sign Letters - CSV Files/User - Hridi (Female, 19)/Ouput - BSL Image Frames - User - Hridi - Sign 31.csv\")\n",
        "user2_sign32l = pd.read_csv(PATH +\"/Sign Letters - CSV Files/User - Hridi (Female, 19)/Ouput - BSL Image Frames - User - Hridi - Sign 32.csv\")\n",
        "user2_sign33l = pd.read_csv(PATH +\"/Sign Letters - CSV Files/User - Hridi (Female, 19)/Ouput - BSL Image Frames - User - Hridi - Sign 33.csv\")\n",
        "user2_sign34l = pd.read_csv(PATH +\"/Sign Letters - CSV Files/User - Hridi (Female, 19)/Ouput - BSL Image Frames - User - Hridi - Sign 34.csv\")\n",
        "user2_sign35l = pd.read_csv(PATH +\"/Sign Letters - CSV Files/User - Hridi (Female, 19)/Ouput - BSL Image Frames - User - Hridi - Sign 35.csv\")\n",
        "user2_sign36l = pd.read_csv(PATH +\"/Sign Letters - CSV Files/User - Hridi (Female, 19)/Ouput - BSL Image Frames - User - Hridi - Sign 36.csv\")"
      ]
    },
    {
      "cell_type": "markdown",
      "metadata": {
        "id": "LQ8MFF-Y4UGs"
      },
      "source": [
        "**USER 03**"
      ]
    },
    {
      "cell_type": "code",
      "execution_count": null,
      "metadata": {
        "id": "r8xoe1eR4c9I"
      },
      "outputs": [],
      "source": [
        "user3_sign00l = pd.read_csv(PATH +\"/Sign Letters - CSV Files/User - Rayeed (Male, 23)/Ouput - BSL Image Frames - User - Rayeed - Sign 00.csv\")\n",
        "user3_sign01l = pd.read_csv(PATH +\"/Sign Letters - CSV Files/User - Rayeed (Male, 23)/Ouput - BSL Image Frames - User - Rayeed - Sign 01.csv\")\n",
        "user3_sign02l = pd.read_csv(PATH +\"/Sign Letters - CSV Files/User - Rayeed (Male, 23)/Ouput - BSL Image Frames - User - Rayeed - Sign 02.csv\")\n",
        "user3_sign03l = pd.read_csv(PATH +\"/Sign Letters - CSV Files/User - Rayeed (Male, 23)/Ouput - BSL Image Frames - User - Rayeed - Sign 03.csv\")\n",
        "user3_sign04l = pd.read_csv(PATH +\"/Sign Letters - CSV Files/User - Rayeed (Male, 23)/Ouput - BSL Image Frames - User - Rayeed - Sign 04.csv\")\n",
        "user3_sign05l = pd.read_csv(PATH +\"/Sign Letters - CSV Files/User - Rayeed (Male, 23)/Ouput - BSL Image Frames - User - Rayeed - Sign 05.csv\")\n",
        "user3_sign06l = pd.read_csv(PATH +\"/Sign Letters - CSV Files/User - Rayeed (Male, 23)/Ouput - BSL Image Frames - User - Rayeed - Sign 06.csv\")\n",
        "user3_sign07l = pd.read_csv(PATH +\"/Sign Letters - CSV Files/User - Rayeed (Male, 23)/Ouput - BSL Image Frames - User - Rayeed - Sign 07.csv\")\n",
        "user3_sign08l = pd.read_csv(PATH +\"/Sign Letters - CSV Files/User - Rayeed (Male, 23)/Ouput - BSL Image Frames - User - Rayeed - Sign 08.csv\")\n",
        "user3_sign09l = pd.read_csv(PATH +\"/Sign Letters - CSV Files/User - Rayeed (Male, 23)/Ouput - BSL Image Frames - User - Rayeed - Sign 09.csv\")\n",
        "\n",
        "user3_sign10l = pd.read_csv(PATH +\"/Sign Letters - CSV Files/User - Rayeed (Male, 23)/Ouput - BSL Image Frames - User - Rayeed - Sign 10.csv\")\n",
        "user3_sign11l = pd.read_csv(PATH +\"/Sign Letters - CSV Files/User - Rayeed (Male, 23)/Ouput - BSL Image Frames - User - Rayeed - Sign 11.csv\")\n",
        "user3_sign12l = pd.read_csv(PATH +\"/Sign Letters - CSV Files/User - Rayeed (Male, 23)/Ouput - BSL Image Frames - User - Rayeed - Sign 12.csv\")\n",
        "user3_sign13l = pd.read_csv(PATH +\"/Sign Letters - CSV Files/User - Rayeed (Male, 23)/Ouput - BSL Image Frames - User - Rayeed - Sign 13.csv\")\n",
        "user3_sign14l = pd.read_csv(PATH +\"/Sign Letters - CSV Files/User - Rayeed (Male, 23)/Ouput - BSL Image Frames - User - Rayeed - Sign 14.csv\")\n",
        "user3_sign15l = pd.read_csv(PATH +\"/Sign Letters - CSV Files/User - Rayeed (Male, 23)/Ouput - BSL Image Frames - User - Rayeed - Sign 15.csv\")\n",
        "user3_sign16l = pd.read_csv(PATH +\"/Sign Letters - CSV Files/User - Rayeed (Male, 23)/Ouput - BSL Image Frames - User - Rayeed - Sign 16.csv\")\n",
        "user3_sign17l = pd.read_csv(PATH +\"/Sign Letters - CSV Files/User - Rayeed (Male, 23)/Ouput - BSL Image Frames - User - Rayeed - Sign 17.csv\")\n",
        "user3_sign18l = pd.read_csv(PATH +\"/Sign Letters - CSV Files/User - Rayeed (Male, 23)/Ouput - BSL Image Frames - User - Rayeed - Sign 18.csv\")\n",
        "user3_sign19l = pd.read_csv(PATH +\"/Sign Letters - CSV Files/User - Rayeed (Male, 23)/Ouput - BSL Image Frames - User - Rayeed - Sign 19.csv\")\n",
        "\n",
        "user3_sign20l = pd.read_csv(PATH +\"/Sign Letters - CSV Files/User - Rayeed (Male, 23)/Ouput - BSL Image Frames - User - Rayeed - Sign 20.csv\")\n",
        "user3_sign21l = pd.read_csv(PATH +\"/Sign Letters - CSV Files/User - Rayeed (Male, 23)/Ouput - BSL Image Frames - User - Rayeed - Sign 21.csv\")\n",
        "user3_sign22l = pd.read_csv(PATH +\"/Sign Letters - CSV Files/User - Rayeed (Male, 23)/Ouput - BSL Image Frames - User - Rayeed - Sign 22.csv\")\n",
        "user3_sign23l = pd.read_csv(PATH +\"/Sign Letters - CSV Files/User - Rayeed (Male, 23)/Ouput - BSL Image Frames - User - Rayeed - Sign 23.csv\")\n",
        "user3_sign24l = pd.read_csv(PATH +\"/Sign Letters - CSV Files/User - Rayeed (Male, 23)/Ouput - BSL Image Frames - User - Rayeed - Sign 24.csv\")\n",
        "user3_sign25l = pd.read_csv(PATH +\"/Sign Letters - CSV Files/User - Rayeed (Male, 23)/Ouput - BSL Image Frames - User - Rayeed - Sign 25.csv\")\n",
        "user3_sign26l = pd.read_csv(PATH +\"/Sign Letters - CSV Files/User - Rayeed (Male, 23)/Ouput - BSL Image Frames - User - Rayeed - Sign 26.csv\")\n",
        "user3_sign27l = pd.read_csv(PATH +\"/Sign Letters - CSV Files/User - Rayeed (Male, 23)/Ouput - BSL Image Frames - User - Rayeed - Sign 27.csv\")\n",
        "user3_sign28l = pd.read_csv(PATH +\"/Sign Letters - CSV Files/User - Rayeed (Male, 23)/Ouput - BSL Image Frames - User - Rayeed - Sign 28.csv\")\n",
        "user3_sign29l = pd.read_csv(PATH +\"/Sign Letters - CSV Files/User - Rayeed (Male, 23)/Ouput - BSL Image Frames - User - Rayeed - Sign 29.csv\")\n",
        "\n",
        "user3_sign30l = pd.read_csv(PATH +\"/Sign Letters - CSV Files/User - Rayeed (Male, 23)/Ouput - BSL Image Frames - User - Rayeed - Sign 30.csv\")\n",
        "user3_sign31l = pd.read_csv(PATH +\"/Sign Letters - CSV Files/User - Rayeed (Male, 23)/Ouput - BSL Image Frames - User - Rayeed - Sign 31.csv\")\n",
        "user3_sign32l = pd.read_csv(PATH +\"/Sign Letters - CSV Files/User - Rayeed (Male, 23)/Ouput - BSL Image Frames - User - Rayeed - Sign 32.csv\")\n",
        "user3_sign33l = pd.read_csv(PATH +\"/Sign Letters - CSV Files/User - Rayeed (Male, 23)/Ouput - BSL Image Frames - User - Rayeed - Sign 33.csv\")\n",
        "user3_sign34l = pd.read_csv(PATH +\"/Sign Letters - CSV Files/User - Rayeed (Male, 23)/Ouput - BSL Image Frames - User - Rayeed - Sign 34.csv\")\n",
        "user3_sign35l = pd.read_csv(PATH +\"/Sign Letters - CSV Files/User - Rayeed (Male, 23)/Ouput - BSL Image Frames - User - Rayeed - Sign 35.csv\")\n",
        "user3_sign36l = pd.read_csv(PATH +\"/Sign Letters - CSV Files/User - Rayeed (Male, 23)/Ouput - BSL Image Frames - User - Rayeed - Sign 36.csv\")"
      ]
    },
    {
      "cell_type": "markdown",
      "metadata": {
        "id": "OOfd5Hy464VE"
      },
      "source": [
        "**USER 04**"
      ]
    },
    {
      "cell_type": "code",
      "execution_count": null,
      "metadata": {
        "id": "0reov9QT67__"
      },
      "outputs": [],
      "source": [
        "user4_sign00l = pd.read_csv(PATH +\"/Sign Letters - CSV Files/User - Tawsif (Male, 13)/Ouput - BSL Image Frames - User - Tawsif - Sign 00.csv\")\n",
        "user4_sign01l = pd.read_csv(PATH +\"/Sign Letters - CSV Files/User - Tawsif (Male, 13)/Ouput - BSL Image Frames - User - Tawsif - Sign 01.csv\")\n",
        "user4_sign02l = pd.read_csv(PATH +\"/Sign Letters - CSV Files/User - Tawsif (Male, 13)/Ouput - BSL Image Frames - User - Tawsif - Sign 02.csv\")\n",
        "user4_sign03l = pd.read_csv(PATH +\"/Sign Letters - CSV Files/User - Tawsif (Male, 13)/Ouput - BSL Image Frames - User - Tawsif - Sign 03.csv\")\n",
        "user4_sign04l = pd.read_csv(PATH +\"/Sign Letters - CSV Files/User - Tawsif (Male, 13)/Ouput - BSL Image Frames - User - Tawsif - Sign 04.csv\")\n",
        "user4_sign05l = pd.read_csv(PATH +\"/Sign Letters - CSV Files/User - Tawsif (Male, 13)/Ouput - BSL Image Frames - User - Tawsif - Sign 05.csv\")\n",
        "user4_sign06l = pd.read_csv(PATH +\"/Sign Letters - CSV Files/User - Tawsif (Male, 13)/Ouput - BSL Image Frames - User - Tawsif - Sign 06.csv\")\n",
        "user4_sign07l = pd.read_csv(PATH +\"/Sign Letters - CSV Files/User - Tawsif (Male, 13)/Ouput - BSL Image Frames - User - Tawsif - Sign 07.csv\")\n",
        "user4_sign08l = pd.read_csv(PATH +\"/Sign Letters - CSV Files/User - Tawsif (Male, 13)/Ouput - BSL Image Frames - User - Tawsif - Sign 08.csv\")\n",
        "user4_sign09l = pd.read_csv(PATH +\"/Sign Letters - CSV Files/User - Tawsif (Male, 13)/Ouput - BSL Image Frames - User - Tawsif - Sign 09.csv\")\n",
        "\n",
        "user4_sign10l = pd.read_csv(PATH +\"/Sign Letters - CSV Files/User - Tawsif (Male, 13)/Ouput - BSL Image Frames - User - Tawsif - Sign 10.csv\")\n",
        "user4_sign11l = pd.read_csv(PATH +\"/Sign Letters - CSV Files/User - Tawsif (Male, 13)/Ouput - BSL Image Frames - User - Tawsif - Sign 11.csv\")\n",
        "user4_sign12l = pd.read_csv(PATH +\"/Sign Letters - CSV Files/User - Tawsif (Male, 13)/Ouput - BSL Image Frames - User - Tawsif - Sign 12.csv\")\n",
        "user4_sign13l = pd.read_csv(PATH +\"/Sign Letters - CSV Files/User - Tawsif (Male, 13)/Ouput - BSL Image Frames - User - Tawsif - Sign 13.csv\")\n",
        "user4_sign14l = pd.read_csv(PATH +\"/Sign Letters - CSV Files/User - Tawsif (Male, 13)/Ouput - BSL Image Frames - User - Tawsif - Sign 14.csv\")\n",
        "user4_sign15l = pd.read_csv(PATH +\"/Sign Letters - CSV Files/User - Tawsif (Male, 13)/Ouput - BSL Image Frames - User - Tawsif - Sign 15.csv\")\n",
        "user4_sign16l = pd.read_csv(PATH +\"/Sign Letters - CSV Files/User - Tawsif (Male, 13)/Ouput - BSL Image Frames - User - Tawsif - Sign 16.csv\")\n",
        "user4_sign17l = pd.read_csv(PATH +\"/Sign Letters - CSV Files/User - Tawsif (Male, 13)/Ouput - BSL Image Frames - User - Tawsif - Sign 17.csv\")\n",
        "user4_sign18l = pd.read_csv(PATH +\"/Sign Letters - CSV Files/User - Tawsif (Male, 13)/Ouput - BSL Image Frames - User - Tawsif - Sign 18.csv\")\n",
        "user4_sign19l = pd.read_csv(PATH +\"/Sign Letters - CSV Files/User - Tawsif (Male, 13)/Ouput - BSL Image Frames - User - Tawsif - Sign 19.csv\")\n",
        "\n",
        "user4_sign20l = pd.read_csv(PATH +\"/Sign Letters - CSV Files/User - Tawsif (Male, 13)/Ouput - BSL Image Frames - User - Tawsif - Sign 20.csv\")\n",
        "user4_sign21l = pd.read_csv(PATH +\"/Sign Letters - CSV Files/User - Tawsif (Male, 13)/Ouput - BSL Image Frames - User - Tawsif - Sign 21.csv\")\n",
        "user4_sign22l = pd.read_csv(PATH +\"/Sign Letters - CSV Files/User - Tawsif (Male, 13)/Ouput - BSL Image Frames - User - Tawsif - Sign 22.csv\")\n",
        "user4_sign23l = pd.read_csv(PATH +\"/Sign Letters - CSV Files/User - Tawsif (Male, 13)/Ouput - BSL Image Frames - User - Tawsif - Sign 23.csv\")\n",
        "user4_sign24l = pd.read_csv(PATH +\"/Sign Letters - CSV Files/User - Tawsif (Male, 13)/Ouput - BSL Image Frames - User - Tawsif - Sign 24.csv\")\n",
        "user4_sign25l = pd.read_csv(PATH +\"/Sign Letters - CSV Files/User - Tawsif (Male, 13)/Ouput - BSL Image Frames - User - Tawsif - Sign 25.csv\")\n",
        "user4_sign26l = pd.read_csv(PATH +\"/Sign Letters - CSV Files/User - Tawsif (Male, 13)/Ouput - BSL Image Frames - User - Tawsif - Sign 26.csv\")\n",
        "user4_sign27l = pd.read_csv(PATH +\"/Sign Letters - CSV Files/User - Tawsif (Male, 13)/Ouput - BSL Image Frames - User - Tawsif - Sign 27.csv\")\n",
        "user4_sign28l = pd.read_csv(PATH +\"/Sign Letters - CSV Files/User - Tawsif (Male, 13)/Ouput - BSL Image Frames - User - Tawsif - Sign 28.csv\")\n",
        "user4_sign29l = pd.read_csv(PATH +\"/Sign Letters - CSV Files/User - Tawsif (Male, 13)/Ouput - BSL Image Frames - User - Tawsif - Sign 29.csv\")\n",
        "\n",
        "user4_sign30l = pd.read_csv(PATH +\"/Sign Letters - CSV Files/User - Tawsif (Male, 13)/Ouput - BSL Image Frames - User - Tawsif - Sign 30.csv\")\n",
        "user4_sign31l = pd.read_csv(PATH +\"/Sign Letters - CSV Files/User - Tawsif (Male, 13)/Ouput - BSL Image Frames - User - Tawsif - Sign 31.csv\")\n",
        "user4_sign32l = pd.read_csv(PATH +\"/Sign Letters - CSV Files/User - Tawsif (Male, 13)/Ouput - BSL Image Frames - User - Tawsif - Sign 32.csv\")\n",
        "user4_sign33l = pd.read_csv(PATH +\"/Sign Letters - CSV Files/User - Tawsif (Male, 13)/Ouput - BSL Image Frames - User - Tawsif - Sign 33.csv\")\n",
        "user4_sign34l = pd.read_csv(PATH +\"/Sign Letters - CSV Files/User - Tawsif (Male, 13)/Ouput - BSL Image Frames - User - Tawsif - Sign 34.csv\")\n",
        "user4_sign35l = pd.read_csv(PATH +\"/Sign Letters - CSV Files/User - Tawsif (Male, 13)/Ouput - BSL Image Frames - User - Tawsif - Sign 35.csv\")\n",
        "user4_sign36l = pd.read_csv(PATH +\"/Sign Letters - CSV Files/User - Tawsif (Male, 13)/Ouput - BSL Image Frames - User - Tawsif - Sign 36.csv\")"
      ]
    },
    {
      "cell_type": "markdown",
      "metadata": {
        "id": "88CvyYd6_XcL"
      },
      "source": [
        "**USER 05**"
      ]
    },
    {
      "cell_type": "code",
      "execution_count": null,
      "metadata": {
        "id": "L0wxK0Dx_atP"
      },
      "outputs": [],
      "source": [
        "user5_sign00l = pd.read_csv(PATH +\"/Sign Letters - CSV Files/User - Zilani (Male, 23)/Output Images - User- Zilani - Sign_00.csv\")\n",
        "user5_sign01l = pd.read_csv(PATH +\"/Sign Letters - CSV Files/User - Zilani (Male, 23)/Output Images - User- Zilani - Sign_01.csv\")\n",
        "user5_sign02l = pd.read_csv(PATH +\"/Sign Letters - CSV Files/User - Zilani (Male, 23)/Output Images - User- Zilani - Sign_02.csv\")\n",
        "user5_sign03l = pd.read_csv(PATH +\"/Sign Letters - CSV Files/User - Zilani (Male, 23)/Output Images - User- Zilani - Sign_03.csv\")\n",
        "user5_sign04l = pd.read_csv(PATH +\"/Sign Letters - CSV Files/User - Zilani (Male, 23)/Output Images - User- Zilani - Sign_04.csv\")\n",
        "user5_sign05l = pd.read_csv(PATH +\"/Sign Letters - CSV Files/User - Zilani (Male, 23)/Output Images - User- Zilani - Sign_05.csv\")\n",
        "user5_sign06l = pd.read_csv(PATH +\"/Sign Letters - CSV Files/User - Zilani (Male, 23)/Output Images - User- Zilani - Sign_06.csv\")\n",
        "user5_sign07l = pd.read_csv(PATH +\"/Sign Letters - CSV Files/User - Zilani (Male, 23)/Output Images - User- Zilani - Sign_07.csv\")\n",
        "user5_sign08l = pd.read_csv(PATH +\"/Sign Letters - CSV Files/User - Zilani (Male, 23)/Output Images - User- Zilani - Sign_08.csv\")\n",
        "user5_sign09l = pd.read_csv(PATH +\"/Sign Letters - CSV Files/User - Zilani (Male, 23)/Output Images - User- Zilani - Sign_09.csv\")\n",
        "\n",
        "user5_sign10l = pd.read_csv(PATH +\"/Sign Letters - CSV Files/User - Zilani (Male, 23)/Output Images - User- Zilani - Sign_10.csv\")\n",
        "user5_sign11l = pd.read_csv(PATH +\"/Sign Letters - CSV Files/User - Zilani (Male, 23)/Output Images - User- Zilani - Sign_11.csv\")\n",
        "user5_sign12l = pd.read_csv(PATH +\"/Sign Letters - CSV Files/User - Zilani (Male, 23)/Output Images - User- Zilani - Sign_12.csv\")\n",
        "user5_sign13l = pd.read_csv(PATH +\"/Sign Letters - CSV Files/User - Zilani (Male, 23)/Output Images - User- Zilani - Sign_13.csv\")\n",
        "user5_sign14l = pd.read_csv(PATH +\"/Sign Letters - CSV Files/User - Zilani (Male, 23)/Output Images - User- Zilani - Sign_14.csv\")\n",
        "user5_sign15l = pd.read_csv(PATH +\"/Sign Letters - CSV Files/User - Zilani (Male, 23)/Output Images - User- Zilani - Sign_15.csv\")\n",
        "user5_sign16l = pd.read_csv(PATH +\"/Sign Letters - CSV Files/User - Zilani (Male, 23)/Output Images - User- Zilani - Sign_16.csv\")\n",
        "user5_sign17l = pd.read_csv(PATH +\"/Sign Letters - CSV Files/User - Zilani (Male, 23)/Output Images - User- Zilani - Sign_17.csv\")\n",
        "user5_sign18l = pd.read_csv(PATH +\"/Sign Letters - CSV Files/User - Zilani (Male, 23)/Output Images - User- Zilani - Sign_18.csv\")\n",
        "user5_sign19l = pd.read_csv(PATH +\"/Sign Letters - CSV Files/User - Zilani (Male, 23)/Output Images - User- Zilani - Sign_19.csv\")\n",
        "\n",
        "user5_sign20l = pd.read_csv(PATH +\"/Sign Letters - CSV Files/User - Zilani (Male, 23)/Output Images - User- Zilani - Sign_20.csv\")\n",
        "user5_sign21l = pd.read_csv(PATH +\"/Sign Letters - CSV Files/User - Zilani (Male, 23)/Output Images - User- Zilani - Sign_21.csv\")\n",
        "user5_sign22l = pd.read_csv(PATH +\"/Sign Letters - CSV Files/User - Zilani (Male, 23)/Output Images - User- Zilani - Sign_22.csv\")\n",
        "user5_sign23l = pd.read_csv(PATH +\"/Sign Letters - CSV Files/User - Zilani (Male, 23)/Output Images - User- Zilani - Sign_23.csv\")\n",
        "user5_sign24l = pd.read_csv(PATH +\"/Sign Letters - CSV Files/User - Zilani (Male, 23)/Output Images - User- Zilani - Sign_24.csv\")\n",
        "user5_sign25l = pd.read_csv(PATH +\"/Sign Letters - CSV Files/User - Zilani (Male, 23)/Output Images - User- Zilani - Sign_25.csv\")\n",
        "user5_sign26l = pd.read_csv(PATH +\"/Sign Letters - CSV Files/User - Zilani (Male, 23)/Output Images - User- Zilani - Sign_26.csv\")\n",
        "user5_sign27l = pd.read_csv(PATH +\"/Sign Letters - CSV Files/User - Zilani (Male, 23)/Output Images - User- Zilani - Sign_27.csv\")\n",
        "user5_sign28l = pd.read_csv(PATH +\"/Sign Letters - CSV Files/User - Zilani (Male, 23)/Output Images - User- Zilani - Sign_28.csv\")\n",
        "user5_sign29l = pd.read_csv(PATH +\"/Sign Letters - CSV Files/User - Zilani (Male, 23)/Output Images - User- Zilani - Sign_29.csv\")\n",
        "\n",
        "user5_sign30l = pd.read_csv(PATH +\"/Sign Letters - CSV Files/User - Zilani (Male, 23)/Output Images - User- Zilani - Sign_30.csv\")\n",
        "user5_sign31l = pd.read_csv(PATH +\"/Sign Letters - CSV Files/User - Zilani (Male, 23)/Output Images - User- Zilani - Sign_31.csv\")\n",
        "user5_sign32l = pd.read_csv(PATH +\"/Sign Letters - CSV Files/User - Zilani (Male, 23)/Output Images - User- Zilani - Sign_32.csv\")\n",
        "user5_sign33l = pd.read_csv(PATH +\"/Sign Letters - CSV Files/User - Zilani (Male, 23)/Output Images - User- Zilani - Sign_33.csv\")\n",
        "user5_sign34l = pd.read_csv(PATH +\"/Sign Letters - CSV Files/User - Zilani (Male, 23)/Output Images - User- Zilani - Sign_34.csv\")\n",
        "user5_sign35l = pd.read_csv(PATH +\"/Sign Letters - CSV Files/User - Zilani (Male, 23)/Output Images - User- Zilani - Sign_35.csv\")\n",
        "user5_sign36l = pd.read_csv(PATH +\"/Sign Letters - CSV Files/User - Zilani (Male, 23)/Output Images - User- Zilani - Sign_36.csv\")"
      ]
    },
    {
      "cell_type": "markdown",
      "metadata": {
        "id": "_bC5-UwGDIb8"
      },
      "source": [
        "**USER 06**"
      ]
    },
    {
      "cell_type": "code",
      "execution_count": null,
      "metadata": {
        "id": "PCX6KyzKDLhj"
      },
      "outputs": [],
      "source": [
        "user6_sign00l = pd.read_csv(PATH +\"/Sign Letters - CSV Files/User - Sarwar (Male, 62)/Output Images - User - Sarwar - Sign_00.csv\")\n",
        "user6_sign01l = pd.read_csv(PATH +\"/Sign Letters - CSV Files/User - Sarwar (Male, 62)/Output Images - User - Sarwar - Sign_01.csv\")\n",
        "user6_sign02l = pd.read_csv(PATH +\"/Sign Letters - CSV Files/User - Sarwar (Male, 62)/Output Images - User - Sarwar - Sign_02.csv\")\n",
        "user6_sign03l = pd.read_csv(PATH +\"/Sign Letters - CSV Files/User - Sarwar (Male, 62)/Output Images - User - Sarwar - Sign_03.csv\")\n",
        "user6_sign04l = pd.read_csv(PATH +\"/Sign Letters - CSV Files/User - Sarwar (Male, 62)/Output Images - User - Sarwar - Sign_04.csv\")\n",
        "user6_sign05l = pd.read_csv(PATH +\"/Sign Letters - CSV Files/User - Sarwar (Male, 62)/Output Images - User - Sarwar - Sign_05.csv\")\n",
        "user6_sign06l = pd.read_csv(PATH +\"/Sign Letters - CSV Files/User - Sarwar (Male, 62)/Output Images - User - Sarwar - Sign_06.csv\")\n",
        "user6_sign07l = pd.read_csv(PATH +\"/Sign Letters - CSV Files/User - Sarwar (Male, 62)/Output Images - User - Sarwar - Sign_07.csv\")\n",
        "user6_sign08l = pd.read_csv(PATH +\"/Sign Letters - CSV Files/User - Sarwar (Male, 62)/Output Images - User - Sarwar - Sign_08.csv\")\n",
        "user6_sign09l = pd.read_csv(PATH +\"/Sign Letters - CSV Files/User - Sarwar (Male, 62)/Output Images - User - Sarwar - Sign_09.csv\")\n",
        "\n",
        "user6_sign10l = pd.read_csv(PATH +\"/Sign Letters - CSV Files/User - Sarwar (Male, 62)/Output Images - User - Sarwar - Sign_10.csv\")\n",
        "user6_sign11l = pd.read_csv(PATH +\"/Sign Letters - CSV Files/User - Sarwar (Male, 62)/Output Images - User - Sarwar - Sign_11.csv\")\n",
        "user6_sign12l = pd.read_csv(PATH +\"/Sign Letters - CSV Files/User - Sarwar (Male, 62)/Output Images - User - Sarwar - Sign_12.csv\")\n",
        "user6_sign13l = pd.read_csv(PATH +\"/Sign Letters - CSV Files/User - Sarwar (Male, 62)/Output Images - User - Sarwar - Sign_13.csv\")\n",
        "user6_sign14l = pd.read_csv(PATH +\"/Sign Letters - CSV Files/User - Sarwar (Male, 62)/Output Images - User - Sarwar - Sign_14.csv\")\n",
        "user6_sign15l = pd.read_csv(PATH +\"/Sign Letters - CSV Files/User - Sarwar (Male, 62)/Output Images - User - Sarwar - Sign_15.csv\")\n",
        "user6_sign16l = pd.read_csv(PATH +\"/Sign Letters - CSV Files/User - Sarwar (Male, 62)/Output Images - User - Sarwar - Sign_16.csv\")\n",
        "user6_sign17l = pd.read_csv(PATH +\"/Sign Letters - CSV Files/User - Sarwar (Male, 62)/Output Images - User - Sarwar - Sign_17.csv\")\n",
        "user6_sign18l = pd.read_csv(PATH +\"/Sign Letters - CSV Files/User - Sarwar (Male, 62)/Output Images - User - Sarwar - Sign_18.csv\")\n",
        "user6_sign19l = pd.read_csv(PATH +\"/Sign Letters - CSV Files/User - Sarwar (Male, 62)/Output Images - User - Sarwar - Sign_19.csv\")\n",
        "\n",
        "user6_sign20l = pd.read_csv(PATH +\"/Sign Letters - CSV Files/User - Sarwar (Male, 62)/Output Images - User - Sarwar - Sign_20.csv\")\n",
        "user6_sign21l = pd.read_csv(PATH +\"/Sign Letters - CSV Files/User - Sarwar (Male, 62)/Output Images - User - Sarwar - Sign_21.csv\")\n",
        "user6_sign22l = pd.read_csv(PATH +\"/Sign Letters - CSV Files/User - Sarwar (Male, 62)/Output Images - User - Sarwar - Sign_22.csv\")\n",
        "user6_sign23l = pd.read_csv(PATH +\"/Sign Letters - CSV Files/User - Sarwar (Male, 62)/Output Images - User - Sarwar - Sign_23.csv\")\n",
        "user6_sign24l = pd.read_csv(PATH +\"/Sign Letters - CSV Files/User - Sarwar (Male, 62)/Output Images - User - Sarwar - Sign_24.csv\")\n",
        "user6_sign25l = pd.read_csv(PATH +\"/Sign Letters - CSV Files/User - Sarwar (Male, 62)/Output Images - User - Sarwar - Sign_25.csv\")\n",
        "user6_sign26l = pd.read_csv(PATH +\"/Sign Letters - CSV Files/User - Sarwar (Male, 62)/Output Images - User - Sarwar - Sign_26.csv\")\n",
        "user6_sign27l = pd.read_csv(PATH +\"/Sign Letters - CSV Files/User - Sarwar (Male, 62)/Output Images - User - Sarwar - Sign_27.csv\")\n",
        "user6_sign28l = pd.read_csv(PATH +\"/Sign Letters - CSV Files/User - Sarwar (Male, 62)/Output Images - User - Sarwar - Sign_28.csv\")\n",
        "user6_sign29l = pd.read_csv(PATH +\"/Sign Letters - CSV Files/User - Sarwar (Male, 62)/Output Images - User - Sarwar - Sign_29.csv\")\n",
        "\n",
        "user6_sign30l = pd.read_csv(PATH +\"/Sign Letters - CSV Files/User - Sarwar (Male, 62)/Output Images - User - Sarwar - Sign_30.csv\")\n",
        "user6_sign31l = pd.read_csv(PATH +\"/Sign Letters - CSV Files/User - Sarwar (Male, 62)/Output Images - User - Sarwar - Sign_31.csv\")\n",
        "user6_sign32l = pd.read_csv(PATH +\"/Sign Letters - CSV Files/User - Sarwar (Male, 62)/Output Images - User - Sarwar - Sign_32.csv\")\n",
        "user6_sign33l = pd.read_csv(PATH +\"/Sign Letters - CSV Files/User - Sarwar (Male, 62)/Output Images - User - Sarwar - Sign_33.csv\")\n",
        "user6_sign34l = pd.read_csv(PATH +\"/Sign Letters - CSV Files/User - Sarwar (Male, 62)/Output Images - User - Sarwar - Sign_34.csv\")\n",
        "user6_sign35l = pd.read_csv(PATH +\"/Sign Letters - CSV Files/User - Sarwar (Male, 62)/Output Images - User - Sarwar - Sign_35.csv\")\n",
        "user6_sign36l = pd.read_csv(PATH +\"/Sign Letters - CSV Files/User - Sarwar (Male, 62)/Output Images - User - Sarwar - Sign_36.csv\")"
      ]
    },
    {
      "cell_type": "markdown",
      "metadata": {
        "id": "Kv_qqkm3FcUU"
      },
      "source": [
        "**USER 07**"
      ]
    },
    {
      "cell_type": "code",
      "execution_count": null,
      "metadata": {
        "id": "VFdA_LgyFbKN"
      },
      "outputs": [],
      "source": [
        "user7_sign00l = pd.read_csv(PATH +\"/Sign Letters - CSV Files/User - Nahar (Female, 58)/Output Images - User - Nahar - Sign_00.csv\")\n",
        "user7_sign01l = pd.read_csv(PATH +\"/Sign Letters - CSV Files/User - Nahar (Female, 58)/Output Images - User - Nahar - Sign_01.csv\")\n",
        "user7_sign02l = pd.read_csv(PATH +\"/Sign Letters - CSV Files/User - Nahar (Female, 58)/Output Images - User - Nahar - Sign_02.csv\")\n",
        "user7_sign03l = pd.read_csv(PATH +\"/Sign Letters - CSV Files/User - Nahar (Female, 58)/Output Images - User - Nahar - Sign_03.csv\")\n",
        "user7_sign04l = pd.read_csv(PATH +\"/Sign Letters - CSV Files/User - Nahar (Female, 58)/Output Images - User - Nahar - Sign_04.csv\")\n",
        "user7_sign05l = pd.read_csv(PATH +\"/Sign Letters - CSV Files/User - Nahar (Female, 58)/Output Images - User - Nahar - Sign_05.csv\")\n",
        "user7_sign06l = pd.read_csv(PATH +\"/Sign Letters - CSV Files/User - Nahar (Female, 58)/Output Images - User - Nahar - Sign_06.csv\")\n",
        "user7_sign07l = pd.read_csv(PATH +\"/Sign Letters - CSV Files/User - Nahar (Female, 58)/Output Images - User - Nahar - Sign_07.csv\")\n",
        "user7_sign08l = pd.read_csv(PATH +\"/Sign Letters - CSV Files/User - Nahar (Female, 58)/Output Images - User - Nahar - Sign_08.csv\")\n",
        "user7_sign09l = pd.read_csv(PATH +\"/Sign Letters - CSV Files/User - Nahar (Female, 58)/Output Images - User - Nahar - Sign_09.csv\")\n",
        "\n",
        "\n",
        "user7_sign10l = pd.read_csv(PATH +\"/Sign Letters - CSV Files/User - Nahar (Female, 58)/Output Images - User - Nahar - Sign_10.csv\")\n",
        "user7_sign11l = pd.read_csv(PATH +\"/Sign Letters - CSV Files/User - Nahar (Female, 58)/Output Images - User - Nahar - Sign_11.csv\")\n",
        "user7_sign12l = pd.read_csv(PATH +\"/Sign Letters - CSV Files/User - Nahar (Female, 58)/Output Images - User - Nahar - Sign_12.csv\")\n",
        "user7_sign13l = pd.read_csv(PATH +\"/Sign Letters - CSV Files/User - Nahar (Female, 58)/Output Images - User - Nahar - Sign_13.csv\")\n",
        "user7_sign14l = pd.read_csv(PATH +\"/Sign Letters - CSV Files/User - Nahar (Female, 58)/Output Images - User - Nahar - Sign_14.csv\")\n",
        "user7_sign15l = pd.read_csv(PATH +\"/Sign Letters - CSV Files/User - Nahar (Female, 58)/Output Images - User - Nahar - Sign_15.csv\")\n",
        "user7_sign16l = pd.read_csv(PATH +\"/Sign Letters - CSV Files/User - Nahar (Female, 58)/Output Images - User - Nahar - Sign_16.csv\")\n",
        "user7_sign17l = pd.read_csv(PATH +\"/Sign Letters - CSV Files/User - Nahar (Female, 58)/Output Images - User - Nahar - Sign_17.csv\")\n",
        "user7_sign18l = pd.read_csv(PATH +\"/Sign Letters - CSV Files/User - Nahar (Female, 58)/Output Images - User - Nahar - Sign_18.csv\")\n",
        "user7_sign19l = pd.read_csv(PATH +\"/Sign Letters - CSV Files/User - Nahar (Female, 58)/Output Images - User - Nahar - Sign_19.csv\")\n",
        "\n",
        "user7_sign20l = pd.read_csv(PATH +\"/Sign Letters - CSV Files/User - Nahar (Female, 58)/Output Images - User - Nahar - Sign_20.csv\")\n",
        "user7_sign21l = pd.read_csv(PATH +\"/Sign Letters - CSV Files/User - Nahar (Female, 58)/Output Images - User - Nahar - Sign_21.csv\")\n",
        "user7_sign22l = pd.read_csv(PATH +\"/Sign Letters - CSV Files/User - Nahar (Female, 58)/Output Images - User - Nahar - Sign_22.csv\")\n",
        "user7_sign23l = pd.read_csv(PATH +\"/Sign Letters - CSV Files/User - Nahar (Female, 58)/Output Images - User - Nahar - Sign_23.csv\")\n",
        "user7_sign24l = pd.read_csv(PATH +\"/Sign Letters - CSV Files/User - Nahar (Female, 58)/Output Images - User - Nahar - Sign_24.csv\")\n",
        "user7_sign25l = pd.read_csv(PATH +\"/Sign Letters - CSV Files/User - Nahar (Female, 58)/Output Images - User - Nahar - Sign_25.csv\")\n",
        "user7_sign26l = pd.read_csv(PATH +\"/Sign Letters - CSV Files/User - Nahar (Female, 58)/Output Images - User - Nahar - Sign_26.csv\")\n",
        "user7_sign27l = pd.read_csv(PATH +\"/Sign Letters - CSV Files/User - Nahar (Female, 58)/Output Images - User - Nahar - Sign_27.csv\")\n",
        "user7_sign28l = pd.read_csv(PATH +\"/Sign Letters - CSV Files/User - Nahar (Female, 58)/Output Images - User - Nahar - Sign_28.csv\")\n",
        "user7_sign29l = pd.read_csv(PATH +\"/Sign Letters - CSV Files/User - Nahar (Female, 58)/Output Images - User - Nahar - Sign_29.csv\")\n",
        "\n",
        "user7_sign30l = pd.read_csv(PATH +\"/Sign Letters - CSV Files/User - Nahar (Female, 58)/Output Images - User - Nahar - Sign_30.csv\")\n",
        "user7_sign31l = pd.read_csv(PATH +\"/Sign Letters - CSV Files/User - Nahar (Female, 58)/Output Images - User - Nahar - Sign_31.csv\")\n",
        "user7_sign32l = pd.read_csv(PATH +\"/Sign Letters - CSV Files/User - Nahar (Female, 58)/Output Images - User - Nahar - Sign_32.csv\")\n",
        "user7_sign33l = pd.read_csv(PATH +\"/Sign Letters - CSV Files/User - Nahar (Female, 58)/Output Images - User - Nahar - Sign_33.csv\")\n",
        "user7_sign34l = pd.read_csv(PATH +\"/Sign Letters - CSV Files/User - Nahar (Female, 58)/Output Images - User - Nahar - Sign_34.csv\")\n",
        "user7_sign35l = pd.read_csv(PATH +\"/Sign Letters - CSV Files/User - Nahar (Female, 58)/Output Images - User - Nahar - Sign_35.csv\")\n",
        "user7_sign36l = pd.read_csv(PATH +\"/Sign Letters - CSV Files/User - Nahar (Female, 58)/Output Images - User - Nahar - Sign_36.csv\")"
      ]
    },
    {
      "cell_type": "markdown",
      "metadata": {
        "id": "BRa7Lal3H-Eh"
      },
      "source": [
        "**USER 08**"
      ]
    },
    {
      "cell_type": "code",
      "execution_count": null,
      "metadata": {
        "id": "WZBmDXXcIFdc"
      },
      "outputs": [],
      "source": [
        "user8_sign00l = pd.read_csv(PATH +'/Sign Letters - CSV Files/User - Gazi (Male, 23)/Output_ImagesGazi_Wasif_-_Sign_00.csv')\n",
        "user8_sign01l = pd.read_csv(PATH +'/Sign Letters - CSV Files/User - Gazi (Male, 23)/Output_ImagesGazi_Wasif_-_Sign_01.csv')\n",
        "user8_sign02l = pd.read_csv(PATH +'/Sign Letters - CSV Files/User - Gazi (Male, 23)/Output_ImagesGazi_Wasif_-_Sign_02.csv')\n",
        "user8_sign03l = pd.read_csv(PATH +'/Sign Letters - CSV Files/User - Gazi (Male, 23)/Output_ImagesGazi_Wasif_-_Sign_03.csv')\n",
        "user8_sign04l = pd.read_csv(PATH +'/Sign Letters - CSV Files/User - Gazi (Male, 23)/Output_ImagesGazi_Wasif_-_Sign_04.csv')\n",
        "user8_sign05l = pd.read_csv(PATH +'/Sign Letters - CSV Files/User - Gazi (Male, 23)/Output_ImagesGazi_Wasif_-_Sign_05.csv')\n",
        "user8_sign06l = pd.read_csv(PATH +'/Sign Letters - CSV Files/User - Gazi (Male, 23)/Output_ImagesGazi_Wasif_-_Sign_06.csv')\n",
        "user8_sign07l = pd.read_csv(PATH +'/Sign Letters - CSV Files/User - Gazi (Male, 23)/Output_ImagesGazi_Wasif_-_Sign_07.csv')\n",
        "user8_sign08l = pd.read_csv(PATH +'/Sign Letters - CSV Files/User - Gazi (Male, 23)/Output_ImagesGazi_Wasif_-_Sign_08.csv')\n",
        "\n",
        "user8_sign09l = pd.read_csv(PATH +'/Sign Letters - CSV Files/User - Gazi (Male, 23)/Output Images(Gazi Wasif) - Sign_09.csv')\n",
        "user8_sign10l = pd.read_csv(PATH +'/Sign Letters - CSV Files/User - Gazi (Male, 23)/Output Images(Gazi Wasif) - Sign_10.csv')\n",
        "user8_sign11l = pd.read_csv(PATH +'/Sign Letters - CSV Files/User - Gazi (Male, 23)/Output Images(Gazi Wasif) - Sign_11.csv')\n",
        "user8_sign12l = pd.read_csv(PATH +'/Sign Letters - CSV Files/User - Gazi (Male, 23)/Output Images(Gazi Wasif) - Sign_12.csv')\n",
        "user8_sign13l = pd.read_csv(PATH +'/Sign Letters - CSV Files/User - Gazi (Male, 23)/Output Images(Gazi Wasif) - Sign_13.csv')\n",
        "user8_sign14l = pd.read_csv(PATH +'/Sign Letters - CSV Files/User - Gazi (Male, 23)/Output Images(Gazi Wasif) - Sign_14.csv')\n",
        "user8_sign15l = pd.read_csv(PATH +'/Sign Letters - CSV Files/User - Gazi (Male, 23)/Output Images(Gazi Wasif) - Sign_15.csv')\n",
        "user8_sign16l = pd.read_csv(PATH +'/Sign Letters - CSV Files/User - Gazi (Male, 23)/Output Images(Gazi Wasif) - Sign_16.csv')\n",
        "user8_sign17l = pd.read_csv(PATH +'/Sign Letters - CSV Files/User - Gazi (Male, 23)/Output Images(Gazi Wasif) - Sign_17.csv')\n",
        "user8_sign18l = pd.read_csv(PATH +'/Sign Letters - CSV Files/User - Gazi (Male, 23)/Output Images(Gazi Wasif) - Sign_18.csv')\n",
        "user8_sign19l = pd.read_csv(PATH +'/Sign Letters - CSV Files/User - Gazi (Male, 23)/Output Images(Gazi Wasif) - Sign_19.csv')\n",
        "\n",
        "user8_sign20l = pd.read_csv(PATH +'/Sign Letters - CSV Files/User - Gazi (Male, 23)/Output Images(Gazi Wasif) - Sign_20.csv')\n",
        "user8_sign21l = pd.read_csv(PATH +'/Sign Letters - CSV Files/User - Gazi (Male, 23)/Output Images(Gazi Wasif) - Sign_21.csv')\n",
        "user8_sign22l = pd.read_csv(PATH +'/Sign Letters - CSV Files/User - Gazi (Male, 23)/Output Images(Gazi Wasif) - Sign_22.csv')\n",
        "user8_sign23l = pd.read_csv(PATH +'/Sign Letters - CSV Files/User - Gazi (Male, 23)/Output Images(Gazi Wasif) - Sign_23.csv')\n",
        "user8_sign24l = pd.read_csv(PATH +'/Sign Letters - CSV Files/User - Gazi (Male, 23)/Output Images(Gazi Wasif) - Sign_24.csv')\n",
        "user8_sign25l = pd.read_csv(PATH +'/Sign Letters - CSV Files/User - Gazi (Male, 23)/Output Images(Gazi Wasif) - Sign_25.csv')\n",
        "user8_sign26l = pd.read_csv(PATH +'/Sign Letters - CSV Files/User - Gazi (Male, 23)/Output Images(Gazi Wasif) - Sign_26.csv')\n",
        "user8_sign27l = pd.read_csv(PATH +'/Sign Letters - CSV Files/User - Gazi (Male, 23)/Output Images(Gazi Wasif) - Sign_27.csv')\n",
        "user8_sign28l = pd.read_csv(PATH +'/Sign Letters - CSV Files/User - Gazi (Male, 23)/Output Images(Gazi Wasif) - Sign_28.csv')\n",
        "user8_sign29l = pd.read_csv(PATH +'/Sign Letters - CSV Files/User - Gazi (Male, 23)/Output Images(Gazi Wasif) - Sign_29.csv')\n",
        "\n",
        "user8_sign30l = pd.read_csv(PATH +'/Sign Letters - CSV Files/User - Gazi (Male, 23)/Output Images(Gazi Wasif) - Sign_30.csv')\n",
        "user8_sign31l = pd.read_csv(PATH +'/Sign Letters - CSV Files/User - Gazi (Male, 23)/Output Images(Gazi Wasif) - Sign_31.csv')\n",
        "user8_sign32l = pd.read_csv(PATH +'/Sign Letters - CSV Files/User - Gazi (Male, 23)/Output Images(Gazi Wasif) - Sign_32.csv')\n",
        "user8_sign33l = pd.read_csv(PATH +'/Sign Letters - CSV Files/User - Gazi (Male, 23)/Output Images(Gazi Wasif) - Sign_33.csv')\n",
        "user8_sign34l = pd.read_csv(PATH +'/Sign Letters - CSV Files/User - Gazi (Male, 23)/Output_ImagesGazi_Wasif_-_Sign_34.csv')\n",
        "\n",
        "user8_sign35l = pd.read_csv(PATH +'/Sign Letters - CSV Files/User - Gazi (Male, 23)/Output Images(Gazi Wasif) - Sign_35.csv')\n",
        "user8_sign36l = pd.read_csv(PATH +'/Sign Letters - CSV Files/User - Gazi (Male, 23)/Output Images(Gazi Wasif) - Sign_36.csv')"
      ]
    },
    {
      "cell_type": "markdown",
      "metadata": {
        "id": "D2mxZpJpKGHr"
      },
      "source": [
        "**USER 09**"
      ]
    },
    {
      "cell_type": "code",
      "execution_count": null,
      "metadata": {
        "id": "0wMB7VKZKKUM"
      },
      "outputs": [],
      "source": [
        "user9_sign00l = pd.read_csv(PATH +'/Sign Letters - CSV Files/User - Tuba (Female, 23)/Output Images - Sign_00.csv')\n",
        "user9_sign01l = pd.read_csv(PATH +'/Sign Letters - CSV Files/User - Tuba (Female, 23)/Output Images - Sign_01.csv')\n",
        "user9_sign02l = pd.read_csv(PATH +'/Sign Letters - CSV Files/User - Tuba (Female, 23)/Output Images - Sign_02.csv')\n",
        "user9_sign03l = pd.read_csv(PATH +'/Sign Letters - CSV Files/User - Tuba (Female, 23)/Output Images - Sign_03.csv')\n",
        "user9_sign04l = pd.read_csv(PATH +'/Sign Letters - CSV Files/User - Tuba (Female, 23)/Output Images - Sign_04.csv')\n",
        "user9_sign05l = pd.read_csv(PATH +'/Sign Letters - CSV Files/User - Tuba (Female, 23)/Output Images - Sign_05.csv')\n",
        "user9_sign06l = pd.read_csv(PATH +'/Sign Letters - CSV Files/User - Tuba (Female, 23)/Output Images - Sign_06.csv')\n",
        "user9_sign07l = pd.read_csv(PATH +'/Sign Letters - CSV Files/User - Tuba (Female, 23)/Output Images - Sign_07.csv')\n",
        "user9_sign08l = pd.read_csv(PATH +'/Sign Letters - CSV Files/User - Tuba (Female, 23)/Output Images - Sign_08.csv')\n",
        "user9_sign09l = pd.read_csv(PATH +'/Sign Letters - CSV Files/User - Tuba (Female, 23)/Output Images - Sign_09.csv')\n",
        "\n",
        "user9_sign10l = pd.read_csv(PATH +'/Sign Letters - CSV Files/User - Tuba (Female, 23)/Output Images - Sign_10.csv')\n",
        "user9_sign11l = pd.read_csv(PATH +'/Sign Letters - CSV Files/User - Tuba (Female, 23)/Output Images - Sign_11.csv')\n",
        "user9_sign12l = pd.read_csv(PATH +'/Sign Letters - CSV Files/User - Tuba (Female, 23)/Output Images - Sign_12.csv')\n",
        "user9_sign13l = pd.read_csv(PATH +'/Sign Letters - CSV Files/User - Tuba (Female, 23)/Output Images - Sign_13.csv')\n",
        "user9_sign14l = pd.read_csv(PATH +'/Sign Letters - CSV Files/User - Tuba (Female, 23)/Output Images - Sign_14.csv')\n",
        "user9_sign15l = pd.read_csv(PATH +'/Sign Letters - CSV Files/User - Tuba (Female, 23)/Output Images - Sign_15.csv')\n",
        "user9_sign16l = pd.read_csv(PATH +'/Sign Letters - CSV Files/User - Tuba (Female, 23)/Output Images - Sign_16.csv')\n",
        "user9_sign17l = pd.read_csv(PATH +'/Sign Letters - CSV Files/User - Tuba (Female, 23)/Output Images - Sign_17.csv')\n",
        "user9_sign18l = pd.read_csv(PATH +'/Sign Letters - CSV Files/User - Tuba (Female, 23)/Output Images - Sign_18.csv')\n",
        "user9_sign19l = pd.read_csv(PATH +'/Sign Letters - CSV Files/User - Tuba (Female, 23)/Output Images - Sign_19.csv')\n",
        "\n",
        "user9_sign20l = pd.read_csv(PATH +'/Sign Letters - CSV Files/User - Tuba (Female, 23)/Output Images - Sign_20.csv')\n",
        "user9_sign21l = pd.read_csv(PATH +'/Sign Letters - CSV Files/User - Tuba (Female, 23)/Output Images - Sign_21.csv')\n",
        "user9_sign22l = pd.read_csv(PATH +'/Sign Letters - CSV Files/User - Tuba (Female, 23)/Output Images - Sign_22.csv')\n",
        "user9_sign23l = pd.read_csv(PATH +'/Sign Letters - CSV Files/User - Tuba (Female, 23)/Output Images - Sign_23.csv')\n",
        "user9_sign24l = pd.read_csv(PATH +'/Sign Letters - CSV Files/User - Tuba (Female, 23)/Output Images - Sign_24.csv')\n",
        "user9_sign25l = pd.read_csv(PATH +'/Sign Letters - CSV Files/User - Tuba (Female, 23)/Output Images - Sign_25.csv')\n",
        "user9_sign26l = pd.read_csv(PATH +'/Sign Letters - CSV Files/User - Tuba (Female, 23)/Output Images - Sign_26.csv')\n",
        "user9_sign27l = pd.read_csv(PATH +'/Sign Letters - CSV Files/User - Tuba (Female, 23)/Output Images - Sign_27.csv')\n",
        "user9_sign28l = pd.read_csv(PATH +'/Sign Letters - CSV Files/User - Tuba (Female, 23)/Output Images - Sign_28.csv')\n",
        "user9_sign29l = pd.read_csv(PATH +'/Sign Letters - CSV Files/User - Tuba (Female, 23)/Output Images - Sign_29.csv')\n",
        "\n",
        "user9_sign30l = pd.read_csv(PATH +'/Sign Letters - CSV Files/User - Tuba (Female, 23)/Output Images - Sign_30.csv')\n",
        "user9_sign31l = pd.read_csv(PATH +'/Sign Letters - CSV Files/User - Tuba (Female, 23)/Output Images - Sign_31.csv')\n",
        "user9_sign32l = pd.read_csv(PATH +'/Sign Letters - CSV Files/User - Tuba (Female, 23)/Output Images - Sign_32.csv')\n",
        "user9_sign33l = pd.read_csv(PATH +'/Sign Letters - CSV Files/User - Tuba (Female, 23)/Output Images - Sign_33.csv')\n",
        "user9_sign34l = pd.read_csv(PATH +'/Sign Letters - CSV Files/User - Tuba (Female, 23)/Output Images - Sign_34.csv')\n",
        "user9_sign35l = pd.read_csv(PATH +'/Sign Letters - CSV Files/User - Tuba (Female, 23)/Output Images - Sign_35.csv')\n",
        "user9_sign36l = pd.read_csv(PATH +'/Sign Letters - CSV Files/User - Tuba (Female, 23)/Output Images - Sign_36.csv')"
      ]
    },
    {
      "cell_type": "markdown",
      "metadata": {
        "id": "jCfydGwiMWsX"
      },
      "source": [
        "**USER 10**"
      ]
    },
    {
      "cell_type": "code",
      "execution_count": null,
      "metadata": {
        "id": "vVnea5R3MZeE"
      },
      "outputs": [],
      "source": [
        "user10_sign00l = pd.read_csv(PATH +'/Sign Letters - CSV Files/User - Tiham (Male, 15)/Output Images - Sign_00.csv')\n",
        "user10_sign01l = pd.read_csv(PATH +'/Sign Letters - CSV Files/User - Tiham (Male, 15)/Output Images - Sign_01.csv')\n",
        "user10_sign02l = pd.read_csv(PATH +'/Sign Letters - CSV Files/User - Tiham (Male, 15)/Output Images - Sign_02.csv')\n",
        "user10_sign03l = pd.read_csv(PATH +'/Sign Letters - CSV Files/User - Tiham (Male, 15)/Output Images - Sign_03.csv')\n",
        "user10_sign04l = pd.read_csv(PATH +'/Sign Letters - CSV Files/User - Tiham (Male, 15)/Output Images - Sign_04.csv')\n",
        "user10_sign05l = pd.read_csv(PATH +'/Sign Letters - CSV Files/User - Tiham (Male, 15)/Output Images - Sign_05.csv')\n",
        "user10_sign06l = pd.read_csv(PATH +'/Sign Letters - CSV Files/User - Tiham (Male, 15)/Output Images - Sign_06.csv')\n",
        "user10_sign07l = pd.read_csv(PATH +'/Sign Letters - CSV Files/User - Tiham (Male, 15)/Output Images - Sign_07.csv')\n",
        "user10_sign08l = pd.read_csv(PATH +'/Sign Letters - CSV Files/User - Tiham (Male, 15)/Output Images - Sign_08.csv')\n",
        "user10_sign09l = pd.read_csv(PATH +'/Sign Letters - CSV Files/User - Tiham (Male, 15)/Output Images - Sign_09.csv')\n",
        "\n",
        "user10_sign10l = pd.read_csv(PATH +'/Sign Letters - CSV Files/User - Tiham (Male, 15)/Output Images - Sign_10.csv')\n",
        "user10_sign11l = pd.read_csv(PATH +'/Sign Letters - CSV Files/User - Tiham (Male, 15)/Output Images - Sign_11.csv')\n",
        "user10_sign12l = pd.read_csv(PATH +'/Sign Letters - CSV Files/User - Tiham (Male, 15)/Output Images - Sign_12.csv')\n",
        "user10_sign13l = pd.read_csv(PATH +'/Sign Letters - CSV Files/User - Tiham (Male, 15)/Output Images - Sign_13.csv')\n",
        "user10_sign14l = pd.read_csv(PATH +'/Sign Letters - CSV Files/User - Tiham (Male, 15)/Output Images - Sign_14.csv')\n",
        "user10_sign15l = pd.read_csv(PATH +'/Sign Letters - CSV Files/User - Tiham (Male, 15)/Output Images - Sign_15.csv')\n",
        "user10_sign16l = pd.read_csv(PATH +'/Sign Letters - CSV Files/User - Tiham (Male, 15)/Output Images - Sign_16.csv')\n",
        "user10_sign17l = pd.read_csv(PATH +'/Sign Letters - CSV Files/User - Tiham (Male, 15)/Output Images - Sign_17.csv')\n",
        "user10_sign18l = pd.read_csv(PATH +'/Sign Letters - CSV Files/User - Tiham (Male, 15)/Output Images - Sign_18.csv')\n",
        "user10_sign19l = pd.read_csv(PATH +'/Sign Letters - CSV Files/User - Tiham (Male, 15)/Output Images - Sign_19.csv')\n",
        "\n",
        "user10_sign20l = pd.read_csv(PATH +'/Sign Letters - CSV Files/User - Tiham (Male, 15)/Output Images - Sign_20.csv')\n",
        "user10_sign21l = pd.read_csv(PATH +'/Sign Letters - CSV Files/User - Tiham (Male, 15)/Output Images - Sign_21.csv')\n",
        "user10_sign22l = pd.read_csv(PATH +'/Sign Letters - CSV Files/User - Tiham (Male, 15)/Output Images - Sign_22.csv')\n",
        "user10_sign23l = pd.read_csv(PATH +'/Sign Letters - CSV Files/User - Tiham (Male, 15)/Output Images - Sign_23.csv')\n",
        "user10_sign24l = pd.read_csv(PATH +'/Sign Letters - CSV Files/User - Tiham (Male, 15)/Output Images - Sign_24.csv')\n",
        "user10_sign25l = pd.read_csv(PATH +'/Sign Letters - CSV Files/User - Tiham (Male, 15)/Output Images - Sign_25.csv')\n",
        "user10_sign26l = pd.read_csv(PATH +'/Sign Letters - CSV Files/User - Tiham (Male, 15)/Output Images - Sign_26.csv')\n",
        "user10_sign27l = pd.read_csv(PATH +'/Sign Letters - CSV Files/User - Tiham (Male, 15)/Output Images - Sign_27.csv')\n",
        "user10_sign28l = pd.read_csv(PATH +'/Sign Letters - CSV Files/User - Tiham (Male, 15)/Output Images - Sign_28.csv')\n",
        "user10_sign29l = pd.read_csv(PATH +'/Sign Letters - CSV Files/User - Tiham (Male, 15)/Output Images - Sign_29.csv')\n",
        "\n",
        "user10_sign30l = pd.read_csv(PATH +'/Sign Letters - CSV Files/User - Tiham (Male, 15)/Output Images - Sign_30.csv')\n",
        "user10_sign31l = pd.read_csv(PATH +'/Sign Letters - CSV Files/User - Tiham (Male, 15)/Output Images - Sign_31.csv')\n",
        "user10_sign32l = pd.read_csv(PATH +'/Sign Letters - CSV Files/User - Tiham (Male, 15)/Output Images - Sign_32.csv')\n",
        "user10_sign33l = pd.read_csv(PATH +'/Sign Letters - CSV Files/User - Tiham (Male, 15)/Output Images - Sign_33.csv')\n",
        "user10_sign34l = pd.read_csv(PATH +'/Sign Letters - CSV Files/User - Tiham (Male, 15)/Output Images - Sign_34.csv')\n",
        "user10_sign35l = pd.read_csv(PATH +'/Sign Letters - CSV Files/User - Tiham (Male, 15)/Output Images - Sign_35.csv')\n",
        "user10_sign36l = pd.read_csv(PATH +'/Sign Letters - CSV Files/User - Tiham (Male, 15)/Output Images - Sign_36.csv')"
      ]
    },
    {
      "cell_type": "code",
      "execution_count": null,
      "metadata": {
        "id": "fz154JrBQrFg"
      },
      "outputs": [],
      "source": [
        "df = pd.concat([user1_sign00l, user1_sign01l, user1_sign02l, user1_sign03l, user1_sign04l, user1_sign05l, user1_sign06l, user1_sign07l, user1_sign08l, user1_sign09l,\n",
        "                user1_sign10l, user1_sign11l, user1_sign12l, user1_sign13l, user1_sign14l, user1_sign15l, user1_sign16l, user1_sign17l, user1_sign18l, user1_sign19l,\n",
        "                user1_sign20l, user1_sign21l, user1_sign22l, user1_sign23l, user1_sign24l, user1_sign25l, user1_sign26l, user1_sign27l, user1_sign28l, user1_sign29l,\n",
        "                user1_sign30l, user1_sign31l, user1_sign32l, user1_sign33l, user1_sign34l, user1_sign35l, user1_sign36l,\n",
        "\n",
        "                user2_sign00l, user2_sign01l, user2_sign02l, user2_sign03l, user2_sign04l, user2_sign05l, user2_sign06l, user2_sign07l, user2_sign08l, user2_sign09l,\n",
        "                user2_sign10l, user2_sign11l, user2_sign12l, user2_sign13l, user2_sign14l, user2_sign15l, user2_sign16l, user2_sign17l, user2_sign18l, user2_sign19l,\n",
        "                user2_sign20l, user2_sign21l, user2_sign22l, user2_sign23l, user2_sign24l, user2_sign25l, user2_sign26l, user2_sign27l, user2_sign28l, user2_sign29l,\n",
        "                user2_sign30l, user2_sign31l, user2_sign32l, user2_sign33l, user2_sign34l, user2_sign35l, user2_sign36l,\n",
        "\n",
        "                user3_sign00l, user3_sign01l, user3_sign02l, user3_sign03l, user3_sign04l, user3_sign05l, user3_sign06l, user3_sign07l, user3_sign08l, user3_sign09l,\n",
        "                user3_sign10l, user3_sign11l, user3_sign12l, user3_sign13l, user3_sign14l, user3_sign15l, user3_sign16l, user3_sign17l, user3_sign18l, user3_sign19l,\n",
        "                user3_sign20l, user3_sign21l, user3_sign22l, user3_sign23l, user3_sign24l, user3_sign25l, user3_sign26l, user3_sign27l, user3_sign28l, user3_sign29l,\n",
        "                user3_sign30l, user3_sign31l, user3_sign32l, user3_sign33l, user3_sign34l, user3_sign35l, user3_sign36l,\n",
        "\n",
        "                user4_sign00l, user4_sign01l, user4_sign02l, user4_sign03l, user4_sign04l, user4_sign05l, user4_sign06l, user4_sign07l, user4_sign08l, user4_sign09l,\n",
        "                user4_sign10l, user4_sign11l, user4_sign12l, user4_sign13l, user4_sign14l, user4_sign15l, user4_sign16l, user4_sign17l, user4_sign18l, user4_sign19l,\n",
        "                user4_sign20l, user4_sign21l, user4_sign22l, user4_sign23l, user4_sign24l, user4_sign25l, user4_sign26l, user4_sign27l, user4_sign28l, user4_sign29l,\n",
        "                user4_sign30l, user4_sign31l, user4_sign32l, user4_sign33l, user4_sign34l, user4_sign35l, user4_sign36l,\n",
        "                \n",
        "                user5_sign00l, user5_sign01l, user5_sign02l, user5_sign03l, user5_sign04l, user5_sign05l, user5_sign06l, user5_sign07l, user5_sign08l, user5_sign09l,\n",
        "                user5_sign10l, user5_sign11l, user5_sign12l, user5_sign13l, user5_sign14l, user5_sign15l, user5_sign16l, user5_sign17l, user5_sign18l, user5_sign19l,\n",
        "                user5_sign20l, user5_sign21l, user5_sign22l, user5_sign23l, user5_sign24l, user5_sign25l, user5_sign26l, user5_sign27l, user5_sign28l, user5_sign29l,\n",
        "                user5_sign30l, user5_sign31l, user5_sign32l, user5_sign33l, user5_sign34l, user5_sign35l, user5_sign36l,\n",
        "\n",
        "                user6_sign00l, user6_sign01l, user6_sign02l, user6_sign03l, user6_sign04l, user6_sign05l, user6_sign06l, user6_sign07l, user6_sign08l, user6_sign09l,\n",
        "                user6_sign10l, user6_sign11l, user6_sign12l, user6_sign13l, user6_sign14l, user6_sign15l, user6_sign16l, user6_sign17l, user6_sign18l, user6_sign19l,\n",
        "                user6_sign20l, user6_sign21l, user6_sign22l, user6_sign23l, user6_sign24l, user6_sign25l, user6_sign26l, user6_sign27l, user6_sign28l, user6_sign29l,\n",
        "                user6_sign30l, user6_sign31l, user6_sign32l, user6_sign33l, user6_sign34l, user6_sign35l, user6_sign36l,\n",
        "\n",
        "                user7_sign00l, user7_sign01l, user7_sign02l, user7_sign03l, user7_sign04l, user7_sign05l, user7_sign06l, user7_sign07l, user7_sign08l, user7_sign09l,\n",
        "                user7_sign10l, user7_sign11l, user7_sign12l, user7_sign13l, user7_sign14l, user7_sign15l, user7_sign16l, user7_sign17l, user7_sign18l, user7_sign19l,\n",
        "                user7_sign20l, user7_sign21l, user7_sign22l, user7_sign23l, user7_sign24l, user7_sign25l, user7_sign26l, user7_sign27l, user7_sign28l, user7_sign29l,\n",
        "                user7_sign30l, user7_sign31l, user7_sign32l, user7_sign33l, user7_sign34l, user7_sign35l, user7_sign36l, \n",
        "\n",
        "                user8_sign00l, user8_sign01l, user8_sign02l, user8_sign03l, user8_sign04l, user8_sign05l, user8_sign06l, user8_sign07l, user8_sign08l, user8_sign09l,\n",
        "                user8_sign10l, user8_sign11l, user8_sign12l, user8_sign13l, user8_sign14l, user8_sign15l, user8_sign16l, user8_sign17l, user8_sign18l, user8_sign19l,\n",
        "                user8_sign20l, user8_sign21l, user8_sign22l, user8_sign23l, user8_sign24l, user8_sign25l, user8_sign26l, user8_sign27l, user8_sign28l, user8_sign29l,\n",
        "                user8_sign30l, user8_sign31l, user8_sign32l, user8_sign33l, user8_sign34l, user8_sign35l, user8_sign36l,\n",
        "\n",
        "                user9_sign00l, user9_sign01l, user9_sign02l, user9_sign03l, user9_sign04l, user9_sign05l, user9_sign06l, user9_sign07l, user9_sign08l, user9_sign09l,\n",
        "                user9_sign10l, user9_sign11l, user9_sign12l, user9_sign13l, user9_sign14l, user9_sign15l, user9_sign16l, user9_sign17l, user9_sign18l, user9_sign19l,\n",
        "                user9_sign20l, user9_sign21l, user9_sign22l, user9_sign23l, user9_sign24l, user9_sign25l, user9_sign26l, user9_sign27l, user9_sign28l, user9_sign29l,\n",
        "                user9_sign30l, user9_sign31l, user9_sign32l, user9_sign33l, user9_sign34l, user9_sign35l, user9_sign36l,\n",
        "                \n",
        "                user10_sign00l, user10_sign01l, user10_sign02l, user10_sign03l, user10_sign04l, user10_sign05l, user10_sign06l, user10_sign07l, user10_sign08l, user10_sign09l,\n",
        "                user10_sign10l, user10_sign11l, user10_sign12l, user10_sign13l, user10_sign14l, user10_sign15l, user10_sign16l, user10_sign17l, user10_sign18l, user10_sign19l,\n",
        "                user10_sign20l, user10_sign21l, user10_sign22l, user10_sign23l, user10_sign24l, user10_sign25l, user10_sign26l, user10_sign27l, user10_sign28l, user10_sign29l,\n",
        "                user10_sign30l, user10_sign31l, user10_sign32l, user10_sign33l, user10_sign34l, user10_sign35l, user10_sign36l,\n",
        "                ])"
      ]
    },
    {
      "cell_type": "markdown",
      "source": [
        "# Data Preparation"
      ],
      "metadata": {
        "id": "wX5ge9LYLMXE"
      }
    },
    {
      "cell_type": "code",
      "execution_count": null,
      "metadata": {
        "id": "RtW1yFGDQ2-P"
      },
      "outputs": [],
      "source": [
        "features = df.iloc[:,1:-1]\n",
        "labels = df.iloc[:,-1]"
      ]
    },
    {
      "cell_type": "code",
      "execution_count": null,
      "metadata": {
        "colab": {
          "base_uri": "https://localhost:8080/",
          "height": 488
        },
        "id": "ygvAAUFcgltc",
        "outputId": "19a047d7-5826-40f3-9460-31298c8730e9"
      },
      "outputs": [
        {
          "output_type": "execute_result",
          "data": {
            "text/plain": [
              "         x00       y00       z00       x01       y01       z01       x02  \\\n",
              "0   0.436448  0.767162 -0.000102  0.372223  0.643721  0.037974  0.366100   \n",
              "1   0.458927  0.712486 -0.000062  0.355744  0.588866  0.032221  0.322153   \n",
              "2   0.428453  0.756309 -0.000117  0.335826  0.627601  0.018323  0.310278   \n",
              "3   0.428738  0.742309 -0.000121  0.337349  0.620123  0.019311  0.310738   \n",
              "4   0.460415  0.726013 -0.000030  0.365085  0.614884  0.002271  0.326273   \n",
              "..       ...       ...       ...       ...       ...       ...       ...   \n",
              "95  0.379994  0.553872 -0.000254  0.304697  0.475099 -0.026185  0.277970   \n",
              "96  0.581703  0.657396 -0.000316  0.507107  0.587787 -0.069474  0.471021   \n",
              "97  0.576761  0.673249 -0.000274  0.495961  0.612660 -0.077255  0.464842   \n",
              "98  0.540531  0.671175 -0.000276  0.462946  0.606177 -0.060942  0.432895   \n",
              "99  0.512219  0.630890 -0.000309  0.435973  0.566050 -0.083789  0.400880   \n",
              "\n",
              "         y02       z02       x03  ...       z17       x18       y18       z18  \\\n",
              "0   0.508165  0.066809  0.373526  ... -0.017621  0.609884  0.425887 -0.036715   \n",
              "1   0.477147  0.074889  0.318987  ...  0.069639  0.618397  0.435618  0.078844   \n",
              "2   0.479101  0.049260  0.310464  ...  0.045825  0.603038  0.405073  0.048265   \n",
              "3   0.476486  0.049809  0.310772  ...  0.042459  0.600199  0.405317  0.043269   \n",
              "4   0.507011  0.017294  0.322782  ...  0.013607  0.619328  0.444052  0.005249   \n",
              "..       ...       ...       ...  ...       ...       ...       ...       ...   \n",
              "95  0.363195 -0.078402  0.253030  ... -0.172652  0.555570  0.390514 -0.247305   \n",
              "96  0.475664 -0.114667  0.460672  ... -0.106836  0.817219  0.509383 -0.210063   \n",
              "97  0.502525 -0.125615  0.456864  ... -0.135008  0.805346  0.545420 -0.245474   \n",
              "98  0.497942 -0.103188  0.426008  ... -0.117639  0.764795  0.537907 -0.213864   \n",
              "99  0.455507 -0.137919  0.388560  ... -0.093255  0.738438  0.486407 -0.195112   \n",
              "\n",
              "         x19       y19       z19       x20       y20       z20  \n",
              "0   0.595085  0.339014 -0.064875  0.571455  0.260083 -0.093233  \n",
              "1   0.614985  0.347156  0.059353  0.604865  0.269415  0.038037  \n",
              "2   0.600976  0.321982  0.029445  0.592786  0.247568  0.008747  \n",
              "3   0.597394  0.322908  0.021902  0.588700  0.248376 -0.000475  \n",
              "4   0.621461  0.357045 -0.028583  0.614019  0.277929 -0.059878  \n",
              "..       ...       ...       ...       ...       ...       ...  \n",
              "95  0.484119  0.433967 -0.202555  0.487095  0.474865 -0.160554  \n",
              "96  0.740824  0.546291 -0.188350  0.716170  0.586444 -0.148948  \n",
              "97  0.727934  0.580646 -0.226332  0.696571  0.616357 -0.185302  \n",
              "98  0.692445  0.574920 -0.193041  0.672031  0.612821 -0.149918  \n",
              "99  0.664658  0.525422 -0.175525  0.645181  0.565089 -0.128859  \n",
              "\n",
              "[37000 rows x 63 columns]"
            ],
            "text/html": [
              "\n",
              "  <div id=\"df-cf39e1ad-bdc4-4b3d-91f5-36b3c9647e77\">\n",
              "    <div class=\"colab-df-container\">\n",
              "      <div>\n",
              "<style scoped>\n",
              "    .dataframe tbody tr th:only-of-type {\n",
              "        vertical-align: middle;\n",
              "    }\n",
              "\n",
              "    .dataframe tbody tr th {\n",
              "        vertical-align: top;\n",
              "    }\n",
              "\n",
              "    .dataframe thead th {\n",
              "        text-align: right;\n",
              "    }\n",
              "</style>\n",
              "<table border=\"1\" class=\"dataframe\">\n",
              "  <thead>\n",
              "    <tr style=\"text-align: right;\">\n",
              "      <th></th>\n",
              "      <th>x00</th>\n",
              "      <th>y00</th>\n",
              "      <th>z00</th>\n",
              "      <th>x01</th>\n",
              "      <th>y01</th>\n",
              "      <th>z01</th>\n",
              "      <th>x02</th>\n",
              "      <th>y02</th>\n",
              "      <th>z02</th>\n",
              "      <th>x03</th>\n",
              "      <th>...</th>\n",
              "      <th>z17</th>\n",
              "      <th>x18</th>\n",
              "      <th>y18</th>\n",
              "      <th>z18</th>\n",
              "      <th>x19</th>\n",
              "      <th>y19</th>\n",
              "      <th>z19</th>\n",
              "      <th>x20</th>\n",
              "      <th>y20</th>\n",
              "      <th>z20</th>\n",
              "    </tr>\n",
              "  </thead>\n",
              "  <tbody>\n",
              "    <tr>\n",
              "      <th>0</th>\n",
              "      <td>0.436448</td>\n",
              "      <td>0.767162</td>\n",
              "      <td>-0.000102</td>\n",
              "      <td>0.372223</td>\n",
              "      <td>0.643721</td>\n",
              "      <td>0.037974</td>\n",
              "      <td>0.366100</td>\n",
              "      <td>0.508165</td>\n",
              "      <td>0.066809</td>\n",
              "      <td>0.373526</td>\n",
              "      <td>...</td>\n",
              "      <td>-0.017621</td>\n",
              "      <td>0.609884</td>\n",
              "      <td>0.425887</td>\n",
              "      <td>-0.036715</td>\n",
              "      <td>0.595085</td>\n",
              "      <td>0.339014</td>\n",
              "      <td>-0.064875</td>\n",
              "      <td>0.571455</td>\n",
              "      <td>0.260083</td>\n",
              "      <td>-0.093233</td>\n",
              "    </tr>\n",
              "    <tr>\n",
              "      <th>1</th>\n",
              "      <td>0.458927</td>\n",
              "      <td>0.712486</td>\n",
              "      <td>-0.000062</td>\n",
              "      <td>0.355744</td>\n",
              "      <td>0.588866</td>\n",
              "      <td>0.032221</td>\n",
              "      <td>0.322153</td>\n",
              "      <td>0.477147</td>\n",
              "      <td>0.074889</td>\n",
              "      <td>0.318987</td>\n",
              "      <td>...</td>\n",
              "      <td>0.069639</td>\n",
              "      <td>0.618397</td>\n",
              "      <td>0.435618</td>\n",
              "      <td>0.078844</td>\n",
              "      <td>0.614985</td>\n",
              "      <td>0.347156</td>\n",
              "      <td>0.059353</td>\n",
              "      <td>0.604865</td>\n",
              "      <td>0.269415</td>\n",
              "      <td>0.038037</td>\n",
              "    </tr>\n",
              "    <tr>\n",
              "      <th>2</th>\n",
              "      <td>0.428453</td>\n",
              "      <td>0.756309</td>\n",
              "      <td>-0.000117</td>\n",
              "      <td>0.335826</td>\n",
              "      <td>0.627601</td>\n",
              "      <td>0.018323</td>\n",
              "      <td>0.310278</td>\n",
              "      <td>0.479101</td>\n",
              "      <td>0.049260</td>\n",
              "      <td>0.310464</td>\n",
              "      <td>...</td>\n",
              "      <td>0.045825</td>\n",
              "      <td>0.603038</td>\n",
              "      <td>0.405073</td>\n",
              "      <td>0.048265</td>\n",
              "      <td>0.600976</td>\n",
              "      <td>0.321982</td>\n",
              "      <td>0.029445</td>\n",
              "      <td>0.592786</td>\n",
              "      <td>0.247568</td>\n",
              "      <td>0.008747</td>\n",
              "    </tr>\n",
              "    <tr>\n",
              "      <th>3</th>\n",
              "      <td>0.428738</td>\n",
              "      <td>0.742309</td>\n",
              "      <td>-0.000121</td>\n",
              "      <td>0.337349</td>\n",
              "      <td>0.620123</td>\n",
              "      <td>0.019311</td>\n",
              "      <td>0.310738</td>\n",
              "      <td>0.476486</td>\n",
              "      <td>0.049809</td>\n",
              "      <td>0.310772</td>\n",
              "      <td>...</td>\n",
              "      <td>0.042459</td>\n",
              "      <td>0.600199</td>\n",
              "      <td>0.405317</td>\n",
              "      <td>0.043269</td>\n",
              "      <td>0.597394</td>\n",
              "      <td>0.322908</td>\n",
              "      <td>0.021902</td>\n",
              "      <td>0.588700</td>\n",
              "      <td>0.248376</td>\n",
              "      <td>-0.000475</td>\n",
              "    </tr>\n",
              "    <tr>\n",
              "      <th>4</th>\n",
              "      <td>0.460415</td>\n",
              "      <td>0.726013</td>\n",
              "      <td>-0.000030</td>\n",
              "      <td>0.365085</td>\n",
              "      <td>0.614884</td>\n",
              "      <td>0.002271</td>\n",
              "      <td>0.326273</td>\n",
              "      <td>0.507011</td>\n",
              "      <td>0.017294</td>\n",
              "      <td>0.322782</td>\n",
              "      <td>...</td>\n",
              "      <td>0.013607</td>\n",
              "      <td>0.619328</td>\n",
              "      <td>0.444052</td>\n",
              "      <td>0.005249</td>\n",
              "      <td>0.621461</td>\n",
              "      <td>0.357045</td>\n",
              "      <td>-0.028583</td>\n",
              "      <td>0.614019</td>\n",
              "      <td>0.277929</td>\n",
              "      <td>-0.059878</td>\n",
              "    </tr>\n",
              "    <tr>\n",
              "      <th>...</th>\n",
              "      <td>...</td>\n",
              "      <td>...</td>\n",
              "      <td>...</td>\n",
              "      <td>...</td>\n",
              "      <td>...</td>\n",
              "      <td>...</td>\n",
              "      <td>...</td>\n",
              "      <td>...</td>\n",
              "      <td>...</td>\n",
              "      <td>...</td>\n",
              "      <td>...</td>\n",
              "      <td>...</td>\n",
              "      <td>...</td>\n",
              "      <td>...</td>\n",
              "      <td>...</td>\n",
              "      <td>...</td>\n",
              "      <td>...</td>\n",
              "      <td>...</td>\n",
              "      <td>...</td>\n",
              "      <td>...</td>\n",
              "      <td>...</td>\n",
              "    </tr>\n",
              "    <tr>\n",
              "      <th>95</th>\n",
              "      <td>0.379994</td>\n",
              "      <td>0.553872</td>\n",
              "      <td>-0.000254</td>\n",
              "      <td>0.304697</td>\n",
              "      <td>0.475099</td>\n",
              "      <td>-0.026185</td>\n",
              "      <td>0.277970</td>\n",
              "      <td>0.363195</td>\n",
              "      <td>-0.078402</td>\n",
              "      <td>0.253030</td>\n",
              "      <td>...</td>\n",
              "      <td>-0.172652</td>\n",
              "      <td>0.555570</td>\n",
              "      <td>0.390514</td>\n",
              "      <td>-0.247305</td>\n",
              "      <td>0.484119</td>\n",
              "      <td>0.433967</td>\n",
              "      <td>-0.202555</td>\n",
              "      <td>0.487095</td>\n",
              "      <td>0.474865</td>\n",
              "      <td>-0.160554</td>\n",
              "    </tr>\n",
              "    <tr>\n",
              "      <th>96</th>\n",
              "      <td>0.581703</td>\n",
              "      <td>0.657396</td>\n",
              "      <td>-0.000316</td>\n",
              "      <td>0.507107</td>\n",
              "      <td>0.587787</td>\n",
              "      <td>-0.069474</td>\n",
              "      <td>0.471021</td>\n",
              "      <td>0.475664</td>\n",
              "      <td>-0.114667</td>\n",
              "      <td>0.460672</td>\n",
              "      <td>...</td>\n",
              "      <td>-0.106836</td>\n",
              "      <td>0.817219</td>\n",
              "      <td>0.509383</td>\n",
              "      <td>-0.210063</td>\n",
              "      <td>0.740824</td>\n",
              "      <td>0.546291</td>\n",
              "      <td>-0.188350</td>\n",
              "      <td>0.716170</td>\n",
              "      <td>0.586444</td>\n",
              "      <td>-0.148948</td>\n",
              "    </tr>\n",
              "    <tr>\n",
              "      <th>97</th>\n",
              "      <td>0.576761</td>\n",
              "      <td>0.673249</td>\n",
              "      <td>-0.000274</td>\n",
              "      <td>0.495961</td>\n",
              "      <td>0.612660</td>\n",
              "      <td>-0.077255</td>\n",
              "      <td>0.464842</td>\n",
              "      <td>0.502525</td>\n",
              "      <td>-0.125615</td>\n",
              "      <td>0.456864</td>\n",
              "      <td>...</td>\n",
              "      <td>-0.135008</td>\n",
              "      <td>0.805346</td>\n",
              "      <td>0.545420</td>\n",
              "      <td>-0.245474</td>\n",
              "      <td>0.727934</td>\n",
              "      <td>0.580646</td>\n",
              "      <td>-0.226332</td>\n",
              "      <td>0.696571</td>\n",
              "      <td>0.616357</td>\n",
              "      <td>-0.185302</td>\n",
              "    </tr>\n",
              "    <tr>\n",
              "      <th>98</th>\n",
              "      <td>0.540531</td>\n",
              "      <td>0.671175</td>\n",
              "      <td>-0.000276</td>\n",
              "      <td>0.462946</td>\n",
              "      <td>0.606177</td>\n",
              "      <td>-0.060942</td>\n",
              "      <td>0.432895</td>\n",
              "      <td>0.497942</td>\n",
              "      <td>-0.103188</td>\n",
              "      <td>0.426008</td>\n",
              "      <td>...</td>\n",
              "      <td>-0.117639</td>\n",
              "      <td>0.764795</td>\n",
              "      <td>0.537907</td>\n",
              "      <td>-0.213864</td>\n",
              "      <td>0.692445</td>\n",
              "      <td>0.574920</td>\n",
              "      <td>-0.193041</td>\n",
              "      <td>0.672031</td>\n",
              "      <td>0.612821</td>\n",
              "      <td>-0.149918</td>\n",
              "    </tr>\n",
              "    <tr>\n",
              "      <th>99</th>\n",
              "      <td>0.512219</td>\n",
              "      <td>0.630890</td>\n",
              "      <td>-0.000309</td>\n",
              "      <td>0.435973</td>\n",
              "      <td>0.566050</td>\n",
              "      <td>-0.083789</td>\n",
              "      <td>0.400880</td>\n",
              "      <td>0.455507</td>\n",
              "      <td>-0.137919</td>\n",
              "      <td>0.388560</td>\n",
              "      <td>...</td>\n",
              "      <td>-0.093255</td>\n",
              "      <td>0.738438</td>\n",
              "      <td>0.486407</td>\n",
              "      <td>-0.195112</td>\n",
              "      <td>0.664658</td>\n",
              "      <td>0.525422</td>\n",
              "      <td>-0.175525</td>\n",
              "      <td>0.645181</td>\n",
              "      <td>0.565089</td>\n",
              "      <td>-0.128859</td>\n",
              "    </tr>\n",
              "  </tbody>\n",
              "</table>\n",
              "<p>37000 rows × 63 columns</p>\n",
              "</div>\n",
              "      <button class=\"colab-df-convert\" onclick=\"convertToInteractive('df-cf39e1ad-bdc4-4b3d-91f5-36b3c9647e77')\"\n",
              "              title=\"Convert this dataframe to an interactive table.\"\n",
              "              style=\"display:none;\">\n",
              "        \n",
              "  <svg xmlns=\"http://www.w3.org/2000/svg\" height=\"24px\"viewBox=\"0 0 24 24\"\n",
              "       width=\"24px\">\n",
              "    <path d=\"M0 0h24v24H0V0z\" fill=\"none\"/>\n",
              "    <path d=\"M18.56 5.44l.94 2.06.94-2.06 2.06-.94-2.06-.94-.94-2.06-.94 2.06-2.06.94zm-11 1L8.5 8.5l.94-2.06 2.06-.94-2.06-.94L8.5 2.5l-.94 2.06-2.06.94zm10 10l.94 2.06.94-2.06 2.06-.94-2.06-.94-.94-2.06-.94 2.06-2.06.94z\"/><path d=\"M17.41 7.96l-1.37-1.37c-.4-.4-.92-.59-1.43-.59-.52 0-1.04.2-1.43.59L10.3 9.45l-7.72 7.72c-.78.78-.78 2.05 0 2.83L4 21.41c.39.39.9.59 1.41.59.51 0 1.02-.2 1.41-.59l7.78-7.78 2.81-2.81c.8-.78.8-2.07 0-2.86zM5.41 20L4 18.59l7.72-7.72 1.47 1.35L5.41 20z\"/>\n",
              "  </svg>\n",
              "      </button>\n",
              "      \n",
              "  <style>\n",
              "    .colab-df-container {\n",
              "      display:flex;\n",
              "      flex-wrap:wrap;\n",
              "      gap: 12px;\n",
              "    }\n",
              "\n",
              "    .colab-df-convert {\n",
              "      background-color: #E8F0FE;\n",
              "      border: none;\n",
              "      border-radius: 50%;\n",
              "      cursor: pointer;\n",
              "      display: none;\n",
              "      fill: #1967D2;\n",
              "      height: 32px;\n",
              "      padding: 0 0 0 0;\n",
              "      width: 32px;\n",
              "    }\n",
              "\n",
              "    .colab-df-convert:hover {\n",
              "      background-color: #E2EBFA;\n",
              "      box-shadow: 0px 1px 2px rgba(60, 64, 67, 0.3), 0px 1px 3px 1px rgba(60, 64, 67, 0.15);\n",
              "      fill: #174EA6;\n",
              "    }\n",
              "\n",
              "    [theme=dark] .colab-df-convert {\n",
              "      background-color: #3B4455;\n",
              "      fill: #D2E3FC;\n",
              "    }\n",
              "\n",
              "    [theme=dark] .colab-df-convert:hover {\n",
              "      background-color: #434B5C;\n",
              "      box-shadow: 0px 1px 3px 1px rgba(0, 0, 0, 0.15);\n",
              "      filter: drop-shadow(0px 1px 2px rgba(0, 0, 0, 0.3));\n",
              "      fill: #FFFFFF;\n",
              "    }\n",
              "  </style>\n",
              "\n",
              "      <script>\n",
              "        const buttonEl =\n",
              "          document.querySelector('#df-cf39e1ad-bdc4-4b3d-91f5-36b3c9647e77 button.colab-df-convert');\n",
              "        buttonEl.style.display =\n",
              "          google.colab.kernel.accessAllowed ? 'block' : 'none';\n",
              "\n",
              "        async function convertToInteractive(key) {\n",
              "          const element = document.querySelector('#df-cf39e1ad-bdc4-4b3d-91f5-36b3c9647e77');\n",
              "          const dataTable =\n",
              "            await google.colab.kernel.invokeFunction('convertToInteractive',\n",
              "                                                     [key], {});\n",
              "          if (!dataTable) return;\n",
              "\n",
              "          const docLinkHtml = 'Like what you see? Visit the ' +\n",
              "            '<a target=\"_blank\" href=https://colab.research.google.com/notebooks/data_table.ipynb>data table notebook</a>'\n",
              "            + ' to learn more about interactive tables.';\n",
              "          element.innerHTML = '';\n",
              "          dataTable['output_type'] = 'display_data';\n",
              "          await google.colab.output.renderOutput(dataTable, element);\n",
              "          const docLink = document.createElement('div');\n",
              "          docLink.innerHTML = docLinkHtml;\n",
              "          element.appendChild(docLink);\n",
              "        }\n",
              "      </script>\n",
              "    </div>\n",
              "  </div>\n",
              "  "
            ]
          },
          "metadata": {},
          "execution_count": 16
        }
      ],
      "source": [
        "features"
      ]
    },
    {
      "cell_type": "code",
      "execution_count": null,
      "metadata": {
        "id": "y8EDBSsQgpl5"
      },
      "outputs": [],
      "source": [
        "features_np = np.array(features)"
      ]
    },
    {
      "cell_type": "code",
      "execution_count": null,
      "metadata": {
        "id": "Dn4U1a0VhCTe"
      },
      "outputs": [],
      "source": [
        "from sklearn.preprocessing import StandardScaler\n",
        "\n",
        "sc_X = StandardScaler()\n",
        "x = sc_X.fit_transform(features_np)\n"
      ]
    },
    {
      "cell_type": "code",
      "source": [
        "x"
      ],
      "metadata": {
        "colab": {
          "base_uri": "https://localhost:8080/"
        },
        "id": "d5X8jZCbpxGv",
        "outputId": "43a9641f-1a7d-46d6-e65b-baf5a21e0f71"
      },
      "execution_count": null,
      "outputs": [
        {
          "output_type": "execute_result",
          "data": {
            "text/plain": [
              "array([[-0.37467192,  0.74809285,  0.30797548, ...,  0.44258207,\n",
              "        -1.46979588,  0.02113054],\n",
              "       [-0.19305171,  0.32934187,  0.7530211 , ...,  0.73624947,\n",
              "        -1.40934147,  0.89311308],\n",
              "       [-0.43926236,  0.66497445,  0.13307514, ...,  0.63007408,\n",
              "        -1.55086698,  0.69855054],\n",
              "       ...,\n",
              "       [ 0.75896501,  0.02883113, -1.61910606, ...,  1.54235417,\n",
              "         0.83819607, -0.59045302],\n",
              "       [ 0.46625223,  0.01294306, -1.63852447, ...,  1.32664136,\n",
              "         0.81529177, -0.35541192],\n",
              "       [ 0.23751012, -0.29559115, -2.00701056, ...,  1.09063476,\n",
              "         0.50607985, -0.21551997]])"
            ]
          },
          "metadata": {},
          "execution_count": 19
        }
      ]
    },
    {
      "cell_type": "code",
      "source": [
        "sns.countplot(labels)"
      ],
      "metadata": {
        "colab": {
          "base_uri": "https://localhost:8080/",
          "height": 351
        },
        "id": "ASHnb2vzlG2Y",
        "outputId": "59f98b31-6abf-4e86-a886-24e76fc4008e"
      },
      "execution_count": null,
      "outputs": [
        {
          "output_type": "stream",
          "name": "stderr",
          "text": [
            "/usr/local/lib/python3.7/dist-packages/seaborn/_decorators.py:43: FutureWarning: Pass the following variable as a keyword arg: x. From version 0.12, the only valid positional argument will be `data`, and passing other arguments without an explicit keyword will result in an error or misinterpretation.\n",
            "  FutureWarning\n"
          ]
        },
        {
          "output_type": "execute_result",
          "data": {
            "text/plain": [
              "<matplotlib.axes._subplots.AxesSubplot at 0x7f50b0d54850>"
            ]
          },
          "metadata": {},
          "execution_count": 20
        },
        {
          "output_type": "display_data",
          "data": {
            "text/plain": [
              "<Figure size 432x288 with 1 Axes>"
            ],
            "image/png": "[encoded data removed]"
          },
          "metadata": {
            "needs_background": "light"
          }
        }
      ]
    },
    {
      "cell_type": "markdown",
      "metadata": {
        "id": "bgf_ZmLth63v"
      },
      "source": [
        "# Data spliting"
      ]
    },
    {
      "cell_type": "code",
      "execution_count": null,
      "metadata": {
        "id": "NDnOAm_mlX6h"
      },
      "outputs": [],
      "source": [
        "from sklearn.model_selection import train_test_split\n",
        "\n",
        "x_train, x_test, y_train, y_test = train_test_split(x, labels, test_size = 0.3, random_state=1)\n",
        "\n"
      ]
    },
    {
      "cell_type": "markdown",
      "source": [
        "# Models"
      ],
      "metadata": {
        "id": "NaEbhrXjLgfN"
      }
    },
    {
      "cell_type": "markdown",
      "metadata": {
        "id": "tFRqLSsEiFj5"
      },
      "source": [
        "**Linear SVM**"
      ]
    },
    {
      "cell_type": "code",
      "execution_count": null,
      "metadata": {
        "id": "WRnYmDNHouyP"
      },
      "outputs": [],
      "source": [
        "from sklearn.svm import SVC\n",
        "\n",
        "clf = SVC(kernel='linear',C=100,gamma=0.01)\n",
        "\n",
        "clf.fit(x_train, y_train)\n",
        "\n",
        "y_pred = clf.predict(x_test)\n",
        "\n"
      ]
    },
    {
      "cell_type": "code",
      "source": [
        "from sklearn.metrics import accuracy_score,classification_report,confusion_matrix\n",
        "\n",
        "print(100*accuracy_score(y_test,y_pred))\n",
        "\n",
        "print(classification_report(y_test, y_pred))\n",
        "print(confusion_matrix(y_test, y_pred))"
      ],
      "metadata": {
        "colab": {
          "base_uri": "https://localhost:8080/"
        },
        "id": "0sVZIQNUS5Be",
        "outputId": "1d8ef01c-5704-46cd-b747-45b0e9570b89"
      },
      "execution_count": null,
      "outputs": [
        {
          "output_type": "stream",
          "name": "stdout",
          "text": [
            "97.04504504504504\n",
            "              precision    recall  f1-score   support\n",
            "\n",
            "           0       0.97      0.97      0.97       306\n",
            "           1       1.00      1.00      1.00       307\n",
            "           2       0.97      0.93      0.95       295\n",
            "           3       0.92      0.95      0.93       273\n",
            "           4       0.98      0.98      0.98       292\n",
            "           5       0.98      0.99      0.99       306\n",
            "           6       0.98      0.97      0.98       318\n",
            "           7       0.91      0.92      0.92       276\n",
            "           8       0.98      0.97      0.98       320\n",
            "           9       0.92      0.93      0.93       321\n",
            "          10       0.99      0.97      0.98       297\n",
            "          11       0.99      1.00      0.99       306\n",
            "          12       0.98      0.98      0.98       305\n",
            "          13       0.93      0.94      0.94       320\n",
            "          14       0.90      0.86      0.88       308\n",
            "          15       0.99      1.00      0.99       288\n",
            "          16       1.00      0.99      0.99       289\n",
            "          17       1.00      1.00      1.00       291\n",
            "          18       0.88      0.88      0.88       312\n",
            "          19       0.99      0.98      0.99       317\n",
            "          20       0.94      0.94      0.94       286\n",
            "          21       0.99      1.00      1.00       287\n",
            "          22       0.95      0.95      0.95       313\n",
            "          23       0.98      0.98      0.98       314\n",
            "          24       0.99      0.99      0.99       301\n",
            "          25       1.00      1.00      1.00       304\n",
            "          26       0.98      0.99      0.98       278\n",
            "          27       0.99      1.00      1.00       306\n",
            "          28       1.00      1.00      1.00       321\n",
            "          29       1.00      1.00      1.00       312\n",
            "          30       1.00      1.00      1.00       282\n",
            "          31       1.00      1.00      1.00       300\n",
            "          32       0.99      0.97      0.98       323\n",
            "          33       0.95      0.98      0.97       271\n",
            "          34       0.99      0.97      0.98       305\n",
            "          35       0.92      0.94      0.93       288\n",
            "          36       0.99      0.98      0.99       262\n",
            "\n",
            "    accuracy                           0.97     11100\n",
            "   macro avg       0.97      0.97      0.97     11100\n",
            "weighted avg       0.97      0.97      0.97     11100\n",
            "\n",
            "[[297   0   0 ...   0   0   0]\n",
            " [  0 306   0 ...   0   0   0]\n",
            " [  0   0 273 ...   0   6   0]\n",
            " ...\n",
            " [  0   0   0 ... 296   0   0]\n",
            " [  0   0   3 ...   0 272   0]\n",
            " [  1   0   0 ...   0   1 257]]\n"
          ]
        }
      ]
    },
    {
      "cell_type": "markdown",
      "metadata": {
        "id": "Fn8JZE_1nIVA"
      },
      "source": [
        "**Polynomial SVM**"
      ]
    },
    {
      "cell_type": "code",
      "execution_count": null,
      "metadata": {
        "id": "EVEvRuRDjMoS",
        "colab": {
          "base_uri": "https://localhost:8080/"
        },
        "outputId": "b3bead90-576c-4b4b-f90c-fe86eaa7a376"
      },
      "outputs": [
        {
          "output_type": "execute_result",
          "data": {
            "text/plain": [
              "SVC(C=10000, gamma=0.001, kernel='poly')"
            ]
          },
          "metadata": {},
          "execution_count": 29
        }
      ],
      "source": [
        "from sklearn.svm import SVC\n",
        "\n",
        "clf = SVC(kernel='poly',C=10000,gamma=0.001)\n",
        "\n",
        "clf.fit(x_train, y_train)\n"
      ]
    },
    {
      "cell_type": "code",
      "execution_count": null,
      "metadata": {
        "colab": {
          "base_uri": "https://localhost:8080/"
        },
        "id": "gBjbnmBijROo",
        "outputId": "666f28dd-fdd6-4c36-db95-b074744f9be1"
      },
      "outputs": [
        {
          "output_type": "stream",
          "name": "stdout",
          "text": [
            "94.3963963963964\n",
            "              precision    recall  f1-score   support\n",
            "\n",
            "           0       0.95      0.96      0.95       306\n",
            "           1       1.00      1.00      1.00       307\n",
            "           2       0.94      0.85      0.89       295\n",
            "           3       0.92      0.89      0.91       273\n",
            "           4       0.95      1.00      0.97       292\n",
            "           5       0.96      0.95      0.96       306\n",
            "           6       0.98      0.98      0.98       318\n",
            "           7       0.91      0.92      0.91       276\n",
            "           8       1.00      0.97      0.98       320\n",
            "           9       0.93      0.91      0.92       321\n",
            "          10       0.94      0.94      0.94       297\n",
            "          11       0.98      0.97      0.97       306\n",
            "          12       0.86      0.95      0.90       305\n",
            "          13       0.93      0.82      0.87       320\n",
            "          14       0.86      0.84      0.85       308\n",
            "          15       0.98      0.97      0.98       288\n",
            "          16       0.98      0.99      0.98       289\n",
            "          17       1.00      1.00      1.00       291\n",
            "          18       0.79      0.89      0.84       312\n",
            "          19       0.96      0.95      0.95       317\n",
            "          20       0.69      0.94      0.79       286\n",
            "          21       1.00      1.00      1.00       287\n",
            "          22       0.95      0.92      0.94       313\n",
            "          23       0.98      0.96      0.97       314\n",
            "          24       0.89      0.96      0.92       301\n",
            "          25       1.00      1.00      1.00       304\n",
            "          26       0.97      0.91      0.94       278\n",
            "          27       0.99      0.97      0.98       306\n",
            "          28       1.00      1.00      1.00       321\n",
            "          29       1.00      1.00      1.00       312\n",
            "          30       0.99      0.99      0.99       282\n",
            "          31       1.00      1.00      1.00       300\n",
            "          32       0.99      0.96      0.98       323\n",
            "          33       0.96      0.83      0.89       271\n",
            "          34       0.95      0.88      0.91       305\n",
            "          35       0.92      0.91      0.92       288\n",
            "          36       0.97      0.93      0.95       262\n",
            "\n",
            "    accuracy                           0.94     11100\n",
            "   macro avg       0.95      0.94      0.94     11100\n",
            "weighted avg       0.95      0.94      0.94     11100\n",
            "\n",
            "[[293   0   0 ...   0   0   0]\n",
            " [  0 307   0 ...   0   0   0]\n",
            " [  0   0 250 ...   0   5   2]\n",
            " ...\n",
            " [  0   0   0 ... 267   0   0]\n",
            " [  0   0   3 ...   0 262   1]\n",
            " [  0   0   2 ...   0   2 244]]\n"
          ]
        }
      ],
      "source": [
        "from sklearn.metrics import accuracy_score,classification_report,confusion_matrix\n",
        "y_pred1 = clf.predict(x_test)\n",
        "print(100*accuracy_score(y_test,y_pred1))\n",
        "\n",
        "print(classification_report(y_test, y_pred1))\n",
        "print(confusion_matrix(y_test, y_pred1))"
      ]
    },
    {
      "cell_type": "markdown",
      "metadata": {
        "id": "pgOYQnhGnQMY"
      },
      "source": [
        "**RBF SVM**"
      ]
    },
    {
      "cell_type": "code",
      "execution_count": null,
      "metadata": {
        "id": "qRzUFhEUnbjj",
        "colab": {
          "base_uri": "https://localhost:8080/"
        },
        "outputId": "06e6d17a-aa66-4ea4-b1d8-9233c672f526"
      },
      "outputs": [
        {
          "output_type": "execute_result",
          "data": {
            "text/plain": [
              "SVC(C=500, gamma=0.01)"
            ]
          },
          "metadata": {},
          "execution_count": 22
        }
      ],
      "source": [
        "from sklearn.svm import SVC\n",
        "\n",
        "clf = SVC(kernel='rbf',C=500,gamma=0.01) \n",
        "\n",
        "clf.fit(x_train, y_train)\n",
        "\n"
      ]
    },
    {
      "cell_type": "code",
      "source": [
        "from sklearn.metrics import accuracy_score,classification_report,confusion_matrix\n",
        "y_pred = clf.predict(x_train)\n",
        "print(100*accuracy_score(y_train,y_pred))\n",
        "\n",
        "print(classification_report(y_train, y_pred))\n",
        "print(confusion_matrix(y_train, y_pred))"
      ],
      "metadata": {
        "colab": {
          "base_uri": "https://localhost:8080/"
        },
        "id": "Vitu8YwHl0T2",
        "outputId": "1ef4738d-b0a6-4c64-e43c-6559887176d2"
      },
      "execution_count": null,
      "outputs": [
        {
          "output_type": "stream",
          "name": "stdout",
          "text": [
            "99.7992277992278\n",
            "              precision    recall  f1-score   support\n",
            "\n",
            "           0       1.00      1.00      1.00       694\n",
            "           1       1.00      1.00      1.00       693\n",
            "           2       1.00      1.00      1.00       705\n",
            "           3       1.00      1.00      1.00       727\n",
            "           4       1.00      1.00      1.00       711\n",
            "           5       1.00      1.00      1.00       694\n",
            "           6       1.00      1.00      1.00       682\n",
            "           7       1.00      1.00      1.00       724\n",
            "           8       1.00      1.00      1.00       680\n",
            "           9       1.00      1.00      1.00       679\n",
            "          10       1.00      1.00      1.00       703\n",
            "          11       1.00      1.00      1.00       694\n",
            "          12       1.00      1.00      1.00       695\n",
            "          13       1.00      1.00      1.00       680\n",
            "          14       0.96      0.97      0.96       692\n",
            "          15       1.00      1.00      1.00       712\n",
            "          16       1.00      1.00      1.00       711\n",
            "          17       1.00      1.00      1.00       709\n",
            "          18       0.97      0.96      0.96       688\n",
            "          19       1.00      1.00      1.00       683\n",
            "          20       1.00      1.00      1.00       714\n",
            "          21       1.00      1.00      1.00       713\n",
            "          22       1.00      1.00      1.00       687\n",
            "          23       1.00      1.00      1.00       686\n",
            "          24       1.00      1.00      1.00       699\n",
            "          25       1.00      1.00      1.00       696\n",
            "          26       1.00      1.00      1.00       722\n",
            "          27       1.00      1.00      1.00       694\n",
            "          28       1.00      1.00      1.00       679\n",
            "          29       1.00      1.00      1.00       688\n",
            "          30       1.00      1.00      1.00       715\n",
            "          31       1.00      1.00      1.00       700\n",
            "          32       1.00      1.00      1.00       677\n",
            "          33       1.00      1.00      1.00       729\n",
            "          34       1.00      1.00      1.00       695\n",
            "          35       1.00      1.00      1.00       712\n",
            "          36       1.00      1.00      1.00       738\n",
            "\n",
            "    accuracy                           1.00     25900\n",
            "   macro avg       1.00      1.00      1.00     25900\n",
            "weighted avg       1.00      1.00      1.00     25900\n",
            "\n",
            "[[694   0   0 ...   0   0   0]\n",
            " [  0 693   0 ...   0   0   0]\n",
            " [  0   0 705 ...   0   0   0]\n",
            " ...\n",
            " [  0   0   0 ... 695   0   0]\n",
            " [  0   0   0 ...   0 712   0]\n",
            " [  0   0   0 ...   0   0 738]]\n"
          ]
        }
      ]
    },
    {
      "cell_type": "code",
      "execution_count": null,
      "metadata": {
        "colab": {
          "base_uri": "https://localhost:8080/"
        },
        "id": "vLO5qu2JnjHw",
        "outputId": "f194fc2b-4523-4615-99c8-7929fb7c1c0c"
      },
      "outputs": [
        {
          "output_type": "stream",
          "name": "stdout",
          "text": [
            "98.90090090090091\n",
            "              precision    recall  f1-score   support\n",
            "\n",
            "           0       0.98      0.99      0.99       306\n",
            "           1       1.00      1.00      1.00       307\n",
            "           2       0.99      0.98      0.98       295\n",
            "           3       0.99      1.00      0.99       273\n",
            "           4       1.00      1.00      1.00       292\n",
            "           5       0.99      0.99      0.99       306\n",
            "           6       1.00      0.99      1.00       318\n",
            "           7       0.97      0.99      0.98       276\n",
            "           8       1.00      1.00      1.00       320\n",
            "           9       0.99      0.98      0.99       321\n",
            "          10       0.99      1.00      0.99       297\n",
            "          11       0.99      1.00      1.00       306\n",
            "          12       0.99      0.98      0.98       305\n",
            "          13       0.98      0.98      0.98       320\n",
            "          14       0.90      0.92      0.91       308\n",
            "          15       1.00      1.00      1.00       288\n",
            "          16       0.99      1.00      0.99       289\n",
            "          17       1.00      1.00      1.00       291\n",
            "          18       0.93      0.90      0.92       312\n",
            "          19       1.00      0.98      0.99       317\n",
            "          20       0.97      0.99      0.98       286\n",
            "          21       1.00      1.00      1.00       287\n",
            "          22       0.99      0.99      0.99       313\n",
            "          23       1.00      1.00      1.00       314\n",
            "          24       0.99      1.00      0.99       301\n",
            "          25       1.00      1.00      1.00       304\n",
            "          26       1.00      0.99      0.99       278\n",
            "          27       0.99      1.00      1.00       306\n",
            "          28       1.00      1.00      1.00       321\n",
            "          29       1.00      1.00      1.00       312\n",
            "          30       1.00      1.00      1.00       282\n",
            "          31       1.00      1.00      1.00       300\n",
            "          32       1.00      1.00      1.00       323\n",
            "          33       1.00      0.99      0.99       271\n",
            "          34       1.00      0.99      1.00       305\n",
            "          35       0.98      0.99      0.99       288\n",
            "          36       0.99      1.00      0.99       262\n",
            "\n",
            "    accuracy                           0.99     11100\n",
            "   macro avg       0.99      0.99      0.99     11100\n",
            "weighted avg       0.99      0.99      0.99     11100\n",
            "\n",
            "[[304   0   0 ...   0   0   0]\n",
            " [  0 307   0 ...   0   0   0]\n",
            " [  0   0 289 ...   0   0   1]\n",
            " ...\n",
            " [  0   0   0 ... 302   0   0]\n",
            " [  0   0   0 ...   0 285   0]\n",
            " [  0   0   0 ...   0   0 261]]\n"
          ]
        }
      ],
      "source": [
        "from sklearn.metrics import accuracy_score,classification_report,confusion_matrix\n",
        "y_pred = clf.predict(x_test)\n",
        "print(100*accuracy_score(y_test,y_pred))\n",
        "\n",
        "print(classification_report(y_test, y_pred))\n",
        "print(confusion_matrix(y_test, y_pred))"
      ]
    },
    {
      "cell_type": "markdown",
      "metadata": {
        "id": "J_3b33qHiUTh"
      },
      "source": [
        "**Decision tree**"
      ]
    },
    {
      "cell_type": "code",
      "execution_count": null,
      "metadata": {
        "colab": {
          "base_uri": "https://localhost:8080/"
        },
        "id": "b-sCAvF6arbN",
        "outputId": "e8f6aa85-11b0-44fb-d5eb-ad03eff074ea"
      },
      "outputs": [
        {
          "output_type": "execute_result",
          "data": {
            "text/plain": [
              "DecisionTreeClassifier(max_depth=1000)"
            ]
          },
          "metadata": {},
          "execution_count": 24
        }
      ],
      "source": [
        "from sklearn import tree\n",
        "clf= tree.DecisionTreeClassifier(max_depth=1000, criterion= 'gini')\n",
        "clf.fit(x_train, y_train )"
      ]
    },
    {
      "cell_type": "code",
      "execution_count": null,
      "metadata": {
        "colab": {
          "base_uri": "https://localhost:8080/"
        },
        "id": "g9QCBN8RyHs3",
        "outputId": "0baa8616-6a34-480b-ec56-4c1c42a712a7"
      },
      "outputs": [
        {
          "output_type": "stream",
          "name": "stdout",
          "text": [
            "91.44144144144144\n",
            "              precision    recall  f1-score   support\n",
            "\n",
            "           0       0.86      0.88      0.87       306\n",
            "           1       0.95      0.94      0.94       307\n",
            "           2       0.89      0.84      0.87       295\n",
            "           3       0.92      0.95      0.93       273\n",
            "           4       0.92      0.92      0.92       292\n",
            "           5       0.88      0.92      0.90       306\n",
            "           6       0.95      0.92      0.93       318\n",
            "           7       0.88      0.88      0.88       276\n",
            "           8       0.94      0.95      0.95       320\n",
            "           9       0.86      0.89      0.87       321\n",
            "          10       0.89      0.90      0.89       297\n",
            "          11       0.95      0.91      0.93       306\n",
            "          12       0.89      0.92      0.90       305\n",
            "          13       0.90      0.89      0.90       320\n",
            "          14       0.80      0.84      0.82       308\n",
            "          15       0.93      0.95      0.94       288\n",
            "          16       0.93      0.90      0.91       289\n",
            "          17       0.98      0.98      0.98       291\n",
            "          18       0.85      0.82      0.83       312\n",
            "          19       0.93      0.88      0.91       317\n",
            "          20       0.86      0.90      0.88       286\n",
            "          21       0.98      0.98      0.98       287\n",
            "          22       0.92      0.90      0.91       313\n",
            "          23       0.92      0.95      0.93       314\n",
            "          24       0.89      0.84      0.87       301\n",
            "          25       0.98      0.95      0.97       304\n",
            "          26       0.86      0.92      0.89       278\n",
            "          27       0.93      0.86      0.89       306\n",
            "          28       0.99      0.99      0.99       321\n",
            "          29       1.00      0.99      0.99       312\n",
            "          30       0.96      0.97      0.96       282\n",
            "          31       0.97      0.96      0.97       300\n",
            "          32       0.96      0.94      0.95       323\n",
            "          33       0.84      0.91      0.87       271\n",
            "          34       0.90      0.91      0.91       305\n",
            "          35       0.90      0.87      0.89       288\n",
            "          36       0.89      0.91      0.90       262\n",
            "\n",
            "    accuracy                           0.91     11100\n",
            "   macro avg       0.91      0.91      0.91     11100\n",
            "weighted avg       0.92      0.91      0.91     11100\n",
            "\n",
            "[[269   3   0 ...   0   0   0]\n",
            " [  3 288   0 ...   0   0   1]\n",
            " [  0   0 249 ...   3  10   2]\n",
            " ...\n",
            " [  0   0   3 ... 279   0   0]\n",
            " [  0   0   5 ...   0 251   8]\n",
            " [  0   0   3 ...   0   3 238]]\n"
          ]
        }
      ],
      "source": [
        "\n",
        "\n",
        "from sklearn.metrics import accuracy_score,classification_report,confusion_matrix\n",
        "y_pred1 = clf.predict(x_test)\n",
        "print(100*accuracy_score(y_test,y_pred1))\n",
        "\n",
        "print(classification_report(y_test, y_pred1))\n",
        "print(confusion_matrix(y_test, y_pred1))"
      ]
    },
    {
      "cell_type": "markdown",
      "metadata": {
        "id": "_ACuE16YzfVG"
      },
      "source": [
        "**Random forest**"
      ]
    },
    {
      "cell_type": "code",
      "execution_count": null,
      "metadata": {
        "id": "Hi2dKr0YyVFA"
      },
      "outputs": [],
      "source": [
        "from sklearn.ensemble import RandomForestClassifier\n",
        "\n",
        "clf=RandomForestClassifier(n_estimators=1000,criterion = 'gini')\n",
        "\n",
        "clf.fit(x_train,y_train)\n",
        "\n",
        "y_pred=clf.predict(x_test)"
      ]
    },
    {
      "cell_type": "code",
      "execution_count": null,
      "metadata": {
        "id": "VSoadQrFz0K3",
        "colab": {
          "base_uri": "https://localhost:8080/"
        },
        "outputId": "9c4a7320-2708-41ce-db51-b2050df68025"
      },
      "outputs": [
        {
          "output_type": "stream",
          "name": "stdout",
          "text": [
            "97.83783783783784\n",
            "              precision    recall  f1-score   support\n",
            "\n",
            "           0       0.98      0.97      0.98       306\n",
            "           1       1.00      1.00      1.00       307\n",
            "           2       1.00      0.94      0.97       295\n",
            "           3       0.99      1.00      0.99       273\n",
            "           4       0.98      0.97      0.97       292\n",
            "           5       0.96      0.99      0.98       306\n",
            "           6       0.99      1.00      0.99       318\n",
            "           7       0.91      0.93      0.92       276\n",
            "           8       0.99      0.99      0.99       320\n",
            "           9       0.96      0.97      0.96       321\n",
            "          10       0.99      0.99      0.99       297\n",
            "          11       0.98      0.98      0.98       306\n",
            "          12       0.99      0.95      0.97       305\n",
            "          13       0.98      0.97      0.97       320\n",
            "          14       0.88      0.89      0.88       308\n",
            "          15       1.00      0.99      0.99       288\n",
            "          16       0.99      1.00      0.99       289\n",
            "          17       1.00      1.00      1.00       291\n",
            "          18       0.90      0.89      0.89       312\n",
            "          19       0.99      0.98      0.99       317\n",
            "          20       0.96      0.99      0.98       286\n",
            "          21       1.00      1.00      1.00       287\n",
            "          22       0.99      0.99      0.99       313\n",
            "          23       0.97      0.98      0.98       314\n",
            "          24       0.97      0.98      0.98       301\n",
            "          25       0.99      1.00      1.00       304\n",
            "          26       0.98      0.98      0.98       278\n",
            "          27       0.98      0.98      0.98       306\n",
            "          28       1.00      1.00      1.00       321\n",
            "          29       1.00      1.00      1.00       312\n",
            "          30       1.00      1.00      1.00       282\n",
            "          31       1.00      1.00      1.00       300\n",
            "          32       1.00      0.99      0.99       323\n",
            "          33       0.97      0.98      0.98       271\n",
            "          34       0.99      0.99      0.99       305\n",
            "          35       0.97      0.98      0.97       288\n",
            "          36       0.96      0.98      0.97       262\n",
            "\n",
            "    accuracy                           0.98     11100\n",
            "   macro avg       0.98      0.98      0.98     11100\n",
            "weighted avg       0.98      0.98      0.98     11100\n",
            "\n",
            "[[298   0   0 ...   0   0   0]\n",
            " [  1 306   0 ...   0   0   0]\n",
            " [  0   0 277 ...   0   1   2]\n",
            " ...\n",
            " [  0   0   0 ... 301   0   0]\n",
            " [  0   0   0 ...   0 281   2]\n",
            " [  0   0   1 ...   0   2 258]]\n"
          ]
        }
      ],
      "source": [
        "from sklearn.metrics import accuracy_score,classification_report,confusion_matrix\n",
        "\n",
        "print(100*accuracy_score(y_test,y_pred))\n",
        "\n",
        "print(classification_report(y_test, y_pred))\n",
        "print(confusion_matrix(y_test, y_pred))"
      ]
    },
    {
      "cell_type": "markdown",
      "source": [
        "**KNN**"
      ],
      "metadata": {
        "id": "wH7FLbaq0yj2"
      }
    },
    {
      "cell_type": "code",
      "source": [
        "from sklearn.neighbors import KNeighborsClassifier\n",
        "\n",
        "knn = KNeighborsClassifier(n_neighbors=1)\n",
        "\n",
        "knn.fit(x_train, y_train)"
      ],
      "metadata": {
        "id": "AJwNe7U202-2",
        "colab": {
          "base_uri": "https://localhost:8080/"
        },
        "outputId": "1959647b-139e-42a1-fd0e-8c546e98e9d3"
      },
      "execution_count": null,
      "outputs": [
        {
          "output_type": "execute_result",
          "data": {
            "text/plain": [
              "KNeighborsClassifier(n_neighbors=1)"
            ]
          },
          "metadata": {},
          "execution_count": 26
        }
      ]
    },
    {
      "cell_type": "code",
      "source": [
        "from sklearn.metrics import accuracy_score,classification_report,confusion_matrix\n",
        "y_pred = clf.predict(x_test)\n",
        "print(100*accuracy_score(y_test,y_pred))\n",
        "\n",
        "print(classification_report(y_test, y_pred))\n",
        "print(confusion_matrix(y_test, y_pred))"
      ],
      "metadata": {
        "id": "2mforngS06yl",
        "colab": {
          "base_uri": "https://localhost:8080/"
        },
        "outputId": "3cf60c85-1ea9-41ff-a531-1fae064bf088"
      },
      "execution_count": null,
      "outputs": [
        {
          "output_type": "stream",
          "name": "stdout",
          "text": [
            "91.44144144144144\n",
            "              precision    recall  f1-score   support\n",
            "\n",
            "           0       0.86      0.88      0.87       306\n",
            "           1       0.95      0.94      0.94       307\n",
            "           2       0.89      0.84      0.87       295\n",
            "           3       0.92      0.95      0.93       273\n",
            "           4       0.92      0.92      0.92       292\n",
            "           5       0.88      0.92      0.90       306\n",
            "           6       0.95      0.92      0.93       318\n",
            "           7       0.88      0.88      0.88       276\n",
            "           8       0.94      0.95      0.95       320\n",
            "           9       0.86      0.89      0.87       321\n",
            "          10       0.89      0.90      0.89       297\n",
            "          11       0.95      0.91      0.93       306\n",
            "          12       0.89      0.92      0.90       305\n",
            "          13       0.90      0.89      0.90       320\n",
            "          14       0.80      0.84      0.82       308\n",
            "          15       0.93      0.95      0.94       288\n",
            "          16       0.93      0.90      0.91       289\n",
            "          17       0.98      0.98      0.98       291\n",
            "          18       0.85      0.82      0.83       312\n",
            "          19       0.93      0.88      0.91       317\n",
            "          20       0.86      0.90      0.88       286\n",
            "          21       0.98      0.98      0.98       287\n",
            "          22       0.92      0.90      0.91       313\n",
            "          23       0.92      0.95      0.93       314\n",
            "          24       0.89      0.84      0.87       301\n",
            "          25       0.98      0.95      0.97       304\n",
            "          26       0.86      0.92      0.89       278\n",
            "          27       0.93      0.86      0.89       306\n",
            "          28       0.99      0.99      0.99       321\n",
            "          29       1.00      0.99      0.99       312\n",
            "          30       0.96      0.97      0.96       282\n",
            "          31       0.97      0.96      0.97       300\n",
            "          32       0.96      0.94      0.95       323\n",
            "          33       0.84      0.91      0.87       271\n",
            "          34       0.90      0.91      0.91       305\n",
            "          35       0.90      0.87      0.89       288\n",
            "          36       0.89      0.91      0.90       262\n",
            "\n",
            "    accuracy                           0.91     11100\n",
            "   macro avg       0.91      0.91      0.91     11100\n",
            "weighted avg       0.92      0.91      0.91     11100\n",
            "\n",
            "[[269   3   0 ...   0   0   0]\n",
            " [  3 288   0 ...   0   0   1]\n",
            " [  0   0 249 ...   3  10   2]\n",
            " ...\n",
            " [  0   0   3 ... 279   0   0]\n",
            " [  0   0   5 ...   0 251   8]\n",
            " [  0   0   3 ...   0   3 238]]\n"
          ]
        }
      ]
    },
    {
      "cell_type": "code",
      "source": [
        "\n",
        "# Necessary imports\n",
        "from sklearn.linear_model import LogisticRegression\n",
        "from sklearn.model_selection import GridSearchCV\n",
        "  \n",
        "# Creating the hyperparameter grid\n",
        "c_space = np.logspace(-5, 8, 15)\n",
        "param_grid = {'C': c_space}\n",
        "  \n",
        "# Instantiating logistic regression classifier\n",
        "logreg = LogisticRegression()\n",
        "  \n",
        "# Instantiating the GridSearchCV object\n",
        "logreg_cv = GridSearchCV(logreg, param_grid, cv = 5)\n",
        "  \n",
        "logreg_cv.fit(x_train, y_train)\n",
        "  \n",
        "# Print the tuned parameters and score\n",
        "print(\"Tuned Logistic Regression Parameters: {}\".format(logreg_cv.best_params_)) \n",
        "print(\"Best score is {}\".format(logreg_cv.best_score_))"
      ],
      "metadata": {
        "id": "eNQ_RWKT1Kfx"
      },
      "execution_count": null,
      "outputs": []
    },
    {
      "cell_type": "markdown",
      "source": [
        "**Logistic Regression**"
      ],
      "metadata": {
        "id": "SXdbsyGi2k6V"
      }
    },
    {
      "cell_type": "code",
      "source": [
        "from sklearn.linear_model import LogisticRegression\n",
        "\n",
        "# instantiate the model (using the default parameters)\n",
        "logreg = LogisticRegression()\n",
        "\n",
        "# fit the model with data\n",
        "logreg.fit(x_train,y_train)\n",
        "\n",
        "#\n",
        "y_pred=logreg.predict(x_test)"
      ],
      "metadata": {
        "colab": {
          "base_uri": "https://localhost:8080/"
        },
        "id": "a9pM8fFM2pAA",
        "outputId": "51736e6e-f875-4998-c4c1-79c0b6bf0f80"
      },
      "execution_count": null,
      "outputs": [
        {
          "output_type": "stream",
          "name": "stderr",
          "text": [
            "/usr/local/lib/python3.7/dist-packages/sklearn/linear_model/_logistic.py:818: ConvergenceWarning: lbfgs failed to converge (status=1):\n",
            "STOP: TOTAL NO. of ITERATIONS REACHED LIMIT.\n",
            "\n",
            "Increase the number of iterations (max_iter) or scale the data as shown in:\n",
            "    https://scikit-learn.org/stable/modules/preprocessing.html\n",
            "Please also refer to the documentation for alternative solver options:\n",
            "    https://scikit-learn.org/stable/modules/linear_model.html#logistic-regression\n",
            "  extra_warning_msg=_LOGISTIC_SOLVER_CONVERGENCE_MSG,\n"
          ]
        }
      ]
    },
    {
      "cell_type": "code",
      "source": [
        "from sklearn.metrics import accuracy_score,classification_report,confusion_matrix\n",
        "scores = cross_val_score(logreg, x_test, y_test, scoring='accuracy', cv=cv, n_jobs=-1)\n",
        "accuracy = (mean(scores)*100)\n",
        "print(accuracy)\n",
        "print(classification_report(y_test, y_pred))\n",
        "print(confusion_matrix(y_test, y_pred))"
      ],
      "metadata": {
        "colab": {
          "base_uri": "https://localhost:8080/"
        },
        "id": "LACnairU2udL",
        "outputId": "14ec6abb-1b6d-4ef3-8dad-191559f614e8"
      },
      "execution_count": null,
      "outputs": [
        {
          "output_type": "stream",
          "name": "stdout",
          "text": [
            "83.46846846846846\n",
            "              precision    recall  f1-score   support\n",
            "\n",
            "           0       0.83      0.84      0.84       301\n",
            "           1       0.97      0.95      0.96       316\n",
            "           2       0.86      0.79      0.82       300\n",
            "           3       0.74      0.74      0.74       302\n",
            "           4       0.85      0.90      0.88       281\n",
            "           5       0.82      0.80      0.81       304\n",
            "           6       0.94      0.94      0.94       284\n",
            "           7       0.72      0.81      0.76       299\n",
            "           8       0.95      0.95      0.95       310\n",
            "           9       0.78      0.77      0.78       290\n",
            "          10       0.71      0.60      0.65       323\n",
            "          11       0.96      0.92      0.94       303\n",
            "          12       0.82      0.86      0.84       298\n",
            "          13       0.83      0.86      0.84       285\n",
            "          14       0.73      0.74      0.74       292\n",
            "          15       0.96      0.95      0.96       284\n",
            "          16       0.85      0.85      0.85       296\n",
            "          17       0.95      0.96      0.95       313\n",
            "          18       0.77      0.76      0.76       303\n",
            "          19       0.82      0.83      0.82       286\n",
            "          20       0.80      0.79      0.79       279\n",
            "          21       0.96      0.96      0.96       318\n",
            "          22       0.83      0.81      0.82       315\n",
            "          23       0.93      0.90      0.91       323\n",
            "          24       0.82      0.81      0.81       320\n",
            "          25       0.90      0.92      0.91       300\n",
            "          26       0.80      0.91      0.85       296\n",
            "          27       0.96      0.95      0.95       275\n",
            "          28       1.00      1.00      1.00       293\n",
            "          29       1.00      1.00      1.00       311\n",
            "          30       0.92      0.98      0.95       299\n",
            "          31       1.00      0.98      0.99       309\n",
            "          32       0.75      0.71      0.73       301\n",
            "          33       0.72      0.64      0.68       311\n",
            "          34       0.86      0.88      0.87       311\n",
            "          35       0.78      0.82      0.80       286\n",
            "          36       0.84      0.85      0.84       283\n",
            "\n",
            "    accuracy                           0.86     11100\n",
            "   macro avg       0.86      0.86      0.86     11100\n",
            "weighted avg       0.86      0.86      0.86     11100\n",
            "\n",
            "[[254   3   0 ...   0   0   3]\n",
            " [  4 301   0 ...   0   0   0]\n",
            " [  0   0 236 ...   0  14   3]\n",
            " ...\n",
            " [  0   0   1 ... 274   0   0]\n",
            " [  0   0   6 ...   0 235   3]\n",
            " [  4   0   1 ...   0   1 241]]\n"
          ]
        }
      ]
    },
    {
      "cell_type": "markdown",
      "source": [
        "# Model Comparison\n",
        "\n",
        "**Linear SVM : 97%**\n",
        "\n",
        "**RBF SVM : 98.9%**\n",
        "\n",
        "**Polynomial SVM : 94.39%**\n",
        "\n",
        "**Decision Tree : 91.44%**\n",
        "\n",
        "**Random Forest : 97.83%**\n",
        "\n",
        "**K-NN: 91.44%**\n",
        "\n",
        "**Logistic regression : 83.4%**\n",
        "\n"
      ],
      "metadata": {
        "id": "JlvkRP3RL4fy"
      }
    }
  ],
  "metadata": {
    "colab": {
      "name": "BanglaSignRecognition.ipynb",
      "provenance": [],
      "collapsed_sections": [
        "JlvkRP3RL4fy"
      ],
      "authorship_tag": "ABX9TyNrtZs++uw/qZGjpR31pfng",
      "include_colab_link": true
    },
    "kernelspec": {
      "display_name": "Python 3",
      "name": "python3"
    },
    "language_info": {
      "name": "python"
    },
    "accelerator": "GPU"
  },
  "nbformat": 4,
  "nbformat_minor": 0
}